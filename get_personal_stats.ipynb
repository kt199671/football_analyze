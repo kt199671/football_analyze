{
  "nbformat": 4,
  "nbformat_minor": 0,
  "metadata": {
    "colab": {
      "name": "get_personal_stats",
      "provenance": [],
      "collapsed_sections": [],
      "authorship_tag": "ABX9TyPehY/AT/b2f8ifAPEBGbqr",
      "include_colab_link": true
    },
    "kernelspec": {
      "name": "python3",
      "display_name": "Python 3"
    },
    "language_info": {
      "name": "python"
    }
  },
  "cells": [
    {
      "cell_type": "markdown",
      "metadata": {
        "id": "view-in-github",
        "colab_type": "text"
      },
      "source": [
        "<a href=\"https://colab.research.google.com/github/kt199671/football_analyze/blob/main/get_personal_stats.ipynb\" target=\"_parent\"><img src=\"https://colab.research.google.com/assets/colab-badge.svg\" alt=\"Open In Colab\"/></a>"
      ]
    },
    {
      "cell_type": "code",
      "metadata": {
        "id": "PE_RN-qv5ov6"
      },
      "source": [
        "import requests\n",
        "import pandas as pd\n",
        "from bs4 import BeautifulSoup\n",
        "\n",
        "def get_stats(url):\n",
        "  res = requests.get(url=url)\n",
        "\n",
        "  soup = BeautifulSoup(res.text, 'html.parser')\n",
        "\n",
        "  tr_list = soup.select('div.overflow tr')\n",
        "  td_list = [i.select('td') for i in tr_list if len(i.select('td')) > 0]\n",
        "  column_th_list = soup.select('div.overflow thead tr th')\n",
        "  column_list = [i.get_text() for i in column_th_list]\n",
        "  column_list[1:]\n",
        "  columns = column_list[1:]\n",
        "  df = pd.DataFrame(columns=columns, )\n",
        "\n",
        "  for tds in td_list:\n",
        "    info_list = []\n",
        "    for td in tds:\n",
        "      info = td.get_text()\n",
        "      info_list.append(info)\n",
        "    rank = info_list[0]\n",
        "    # info_listから順位を除外\n",
        "    info_list_not_rank = info_list[1:]\n",
        "\n",
        "    for i in columns:\n",
        "      df.loc[rank, i] = info_list_not_rank[columns.index(i)]\n",
        "  return df"
      ],
      "execution_count": null,
      "outputs": []
    },
    {
      "cell_type": "code",
      "metadata": {
        "id": "fq2UJNJk58Uj"
      },
      "source": [
        "rushing_df = get_stats(\"https://xleague.jp/stats/2021/x1-super/rushing\")\n",
        "passing_df = get_stats(\"https://xleague.jp/stats/2021/x1-super/passing\")\n",
        "receiving_df = get_stats(\"https://xleague.jp/stats/2021/x1-super/receiving\")\n",
        "from google.colab import auth\n",
        "from oauth2client.client import GoogleCredentials\n",
        "import gspread\n",
        "import gspread_dataframe as gs_df\n",
        "\n",
        "auth.authenticate_user()\n",
        "gc = gspread.authorize(GoogleCredentials.get_application_default())\n",
        "ss_name = \"personal_stats\"\n",
        "workbook = gc.open(ss_name)\n",
        "rushing_worksheet = workbook.get_worksheet(0)\n",
        "passing_worksheet = workbook.get_worksheet(1)\n",
        "receiving_worksheet = workbook.get_worksheet(2)\n",
        "gs_df.set_with_dataframe(rushing_worksheet, rushing_df)\n",
        "gs_df.set_with_dataframe(passing_worksheet, passing_df)\n",
        "gs_df.set_with_dataframe(receiving_worksheet, receiving_df)"
      ],
      "execution_count": null,
      "outputs": []
    },
    {
      "cell_type": "code",
      "metadata": {
        "id": "sXTcLw7WoCff"
      },
      "source": [
        "# 2020statsほしい時"
      ],
      "execution_count": null,
      "outputs": []
    },
    {
      "cell_type": "code",
      "metadata": {
        "id": "rHkeNfLF8hl1"
      },
      "source": [
        "# rushing_df = get_stats(\"https://xleague.jp/stats/2020/x1-super/rushing\")\n",
        "# passing_df = get_stats(\"https://xleague.jp/stats/2020/x1-super/passing\")\n",
        "# receiving_df = get_stats(\"https://xleague.jp/stats/2020/x1-super/receiving\")\n",
        "# from google.colab import auth\n",
        "# from oauth2client.client import GoogleCredentials\n",
        "# import gspread\n",
        "# import gspread_dataframe as gs_df\n",
        "\n",
        "# auth.authenticate_user()\n",
        "# gc = gspread.authorize(GoogleCredentials.get_application_default())\n",
        "# ss_name = \"personal_stats_2020\"\n",
        "# workbook = gc.open(ss_name)\n",
        "# rushing_worksheet = workbook.get_worksheet(0)\n",
        "# passing_worksheet = workbook.get_worksheet(1)\n",
        "# receiving_worksheet = workbook.get_worksheet(2)\n",
        "# gs_df.set_with_dataframe(rushing_worksheet, rushing_df)\n",
        "# gs_df.set_with_dataframe(passing_worksheet, passing_df)\n",
        "# gs_df.set_with_dataframe(receiving_worksheet, receiving_df)"
      ],
      "execution_count": null,
      "outputs": []
    },
    {
      "cell_type": "code",
      "metadata": {
        "id": "Ytrf3R_RDoFp"
      },
      "source": [
        ""
      ],
      "execution_count": null,
      "outputs": []
    }
  ]
}