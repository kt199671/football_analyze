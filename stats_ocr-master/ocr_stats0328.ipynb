{
 "cells": [
  {
   "cell_type": "code",
   "execution_count": 1,
   "id": "bbed7d8e",
   "metadata": {},
   "outputs": [],
   "source": [
    "import os\n",
    "import pathlib\n",
    "from pathlib import Path\n",
    "from pdf2image import convert_from_path\n",
    "from PIL import Image\n",
    "import sys\n",
    "import pyocr\n",
    "import pyocr.builders\n",
    "import pathlib\n",
    "import glob\n",
    "import pandas as pd\n",
    "import re\n",
    "import numpy as np"
   ]
  },
  {
   "cell_type": "code",
   "execution_count": 2,
   "id": "cb5bd5bc",
   "metadata": {},
   "outputs": [],
   "source": [
    "def pdf_to_image():\n",
    "    # poppler/binを環境変数Pathに追加する(一時的に)\n",
    "    # Path(\"__file__\").parent.resolve()で.pyファイルの親フォルダ絶対パスを返す\n",
    "    poppler_dir = pathlib.Path(\"__file__\").parent.resolve() / \"poppler/bin\"\n",
    "    # pathsepは環境変数に追加するときの区切り；\n",
    "    os.environ[\"PATH\"] += os.pathsep + str(poppler_dir)\n",
    "\n",
    "    # PDFファイルのパス\n",
    "    pdf_dir = pathlib.Path('./pdf_file')\n",
    "    # globでディレクトリ内のpdfファイルをリストで取得\n",
    "    pdf_path = list(pdf_dir.glob('**/*.pdf'))\n",
    "\n",
    "    # PDF -> Imageに変換(200dpi)\n",
    "    pages = convert_from_path(str(pdf_path[0]))\n",
    "\n",
    "    # 画像ファイルを１ページづつ保存\n",
    "    image_dir = pathlib.Path(\"./image_file\")\n",
    "    for i, page in enumerate(pages):  # enumerate関数でpagesのpage数を取得\n",
    "        # .stemでpathの末尾を表示（pathlib)\n",
    "        file_name = pdf_path[0].stem + \"_{:02d}\".format(i + 1) + \".jpeg\"\n",
    "        image_path = image_dir / file_name\n",
    "        # JPEGで保存\n",
    "        page.save(str(image_path), \"JPEG\")"
   ]
  },
  {
   "cell_type": "code",
   "execution_count": 9,
   "id": "07f59a1f",
   "metadata": {},
   "outputs": [],
   "source": [
    "pdf_to_image()"
   ]
  },
  {
   "cell_type": "code",
   "execution_count": 3,
   "id": "7156ddba",
   "metadata": {},
   "outputs": [],
   "source": [
    "def image_ocr():\n",
    "\n",
    "    # tesseract-OCRのパスを通す\n",
    "    tessera_path = \"C:\\Program Files\\Tesseract-OCR\"\n",
    "    # pathsepは環境変数に追加するときの区切り；\n",
    "    os.environ[\"PATH\"] += os.pathsep + str(tessera_path)\n",
    "\n",
    "    tools = pyocr.get_available_tools()\n",
    "    if len(tools) == 0:\n",
    "        print(\"No OCR tool found\")\n",
    "        sys.exit(1)  # 引数1は終了ステータスで１を返す\n",
    "\n",
    "    tool = tools[0]\n",
    "\n",
    "    # ocr対象のファイルがあるディレクトリ\n",
    "    image_dir = pathlib.Path('./image_file')\n",
    "    # globでディレクトリ内のjpegファイルをリストで取得\n",
    "    jpg_path = list(image_dir.glob('**/*.jpeg'))\n",
    "\n",
    "    for i in jpg_path:\n",
    "        # ocrした内容を変数txtにする\n",
    "        txt = tool.image_to_string(\n",
    "        Image.open(str(i)),\n",
    "        lang=\"jpn\",\n",
    "        builder=pyocr.builders.TextBuilder(tesseract_layout=6)\n",
    "        )\n",
    "        # 変数txtをtxt_fileディレクトリにtxtファイルで保存\n",
    "        with open('./txt_file/' + str(i.stem) + '.txt', mode='wt') as t:\n",
    "            t.write(txt)"
   ]
  },
  {
   "cell_type": "code",
   "execution_count": 12,
   "id": "049b9f2b",
   "metadata": {},
   "outputs": [],
   "source": [
    "image_ocr()"
   ]
  },
  {
   "cell_type": "code",
   "execution_count": 12,
   "id": "7ba700a7",
   "metadata": {},
   "outputs": [],
   "source": [
    "path = './txt_file/rise_ibm_06.txt'"
   ]
  },
  {
   "cell_type": "code",
   "execution_count": 13,
   "id": "52e936b3",
   "metadata": {},
   "outputs": [],
   "source": [
    "with open(path) as f:\n",
    "    lines = f.readlines()"
   ]
  },
  {
   "cell_type": "code",
   "execution_count": 14,
   "id": "e3a27e02",
   "metadata": {},
   "outputs": [],
   "source": [
    "lines_strip = [line.strip() for line in lines]"
   ]
  },
  {
   "cell_type": "code",
   "execution_count": 15,
   "id": "66c15d10",
   "metadata": {},
   "outputs": [
    {
     "data": {
      "text/plain": [
       "['IBM BigBlue(BB) vs ノジマ相模原ライズ(NR)',\n",
       " '2020/11/23(月) 会場 : 富士通スタジアム川崎',\n",
       " 'Play by Play                                   Second Quarter',\n",
       " 'ノジマ相模原ライズ 12:00',\n",
       " '2&12-NR42 M      RUN  #6 KURT PALANDECH 0yラン(#35 Gamboa Herbert)- No Play',\n",
       " '+Penalty NR #67 ホールディング 10y 久退',\n",
       " '2&22-NR32 M     PASS  #6 KURT PALANDECH パス失敗',\n",
       " '3&22-NR32 M     PASS  #6 KURT PALANDECH パス失敗',\n",
       " '4&22-NR32 M    PUNT 約3 鈴木 健太 パント, ボールデッド',\n",
       " '#0 資格没収',\n",
       " '+Penalty NR #O0 パーソナルファウル 15y 久退',\n",
       " 'IBM BigBlue 11:14',\n",
       " '1&10-BB25 L      PASS 、#3 Kevin Craft 一 #80 河村 暁光 8yパス(18 増山 純季)',\n",
       " '2&2 -BB33 R    RUN  #4 鈴木 恵多 1yラン',\n",
       " '3&1 -BB34 R     RUN  #47 山中 大輔 -1yラン(#5 田中 喜貴)',\n",
       " '4&2 -BB33 R      PUNT  #5 Kevin Coghlan パント …NR 33, #23 伊藤 雅恭 yリターン(#18 小川 知輝)',\n",
       " 'ノジマ相模原ライズ 9:36',\n",
       " '1&10-NR40 L      PASS  #6 KURT PALANDECH 一 #26 森本 統介 60yパス, TOUCHDOWN                                      P2',\n",
       " 'Extra Point, #59 笹尾 健 キック(H/#23 伊藤 雅奈) GOOD',\n",
       " 'NR 35            Kick-off  #3 鈴木 健太 キック …BB 0, #21 佐藤 航生 24ッリターン(#31 新井 直樹)',\n",
       " 'IBM BigBlue 9:23',\n",
       " '1&10-BB24 M     PASS  #3 Kevin Craft パス失敗',\n",
       " '2&10-BB24 M     PASS  #3 Kevin Craft パス失敗',\n",
       " '3&10-BB24 M     PASS  #3 Kevin Craft パス失敗 INTERCEPT #5 田中 喜貴…BB 49、 0yリターン',\n",
       " 'ノジマ相模原ライズ 8:51',\n",
       " '1&10-BB49 L      RUN  #6 KURT PALANDECH 21yラン                                                                        R3',\n",
       " '1&10-BB28 R       RUN  #26 森本 統介 8yラン(#35 Gamboa Herbert)',\n",
       " '2&2 -BB20 R      RUN  #20 DERECK AKIRA WILLIAMS 1yラン',\n",
       " '3&1 -BB19 R      RUN  #20 DERECK AKIRA WILLIAMS 0yラン(#35 Gamboa Herbert, #22 中山 裕貴)',\n",
       " 'TIMEOUT ノジマ相模原ライズ1回目',\n",
       " '4&1 -BB19 M      RUN  #26 森本 統介 0yラン- No Play',\n",
       " '+Penalty BB オフサイド 5y 久退                                                                X4',\n",
       " '1&10-BB14 R     PASS  #6 KURT PALANDECH パス失敗',\n",
       " '2&10-BB14 R      RUN  #26 森本 統介 4ケラン(#35 Gamboa Herbert)',\n",
       " '3&6 -BB10 L     PASS  #6 KURT PALANDECH パス失敗',\n",
       " '4&6 -BB10 L       FG     #59 笹尾 健 28yトライ(H/#23 伊藤 雅蒸)、 GOOD',\n",
       " 'NR 35           Kick-off  #3 鈴木 健太 キック , #4 鈴木 恵多 フェアキャッチ',\n",
       " 'IBM BigBlue 5:25',\n",
       " '1&10-BB25 L      RUN  #832 元山 伊織 8yランば7 LEE HIGHTOWER)',\n",
       " '2&2 -BB33 L      PASS 、#3 Kevin Craft 一 #40 John Stanton 6yパスば7 LEE HIGHTOWER)                                       P6',\n",
       " '1&10-BB39 L RUN #鈴木恵多 1ソラン',\n",
       " '2&9 -BB40 L      PASS  #3 Kevin Craft 一 #40 John Stanton 60yパス, TOUCHDOWN                                             PP',\n",
       " '+Penalty NR #3 ホールディング (ディクライン)',\n",
       " 'Extra Point, #19 佐藤 太希 キック(H/#7 馬島 臨太郎)、 GOOD',\n",
       " 'BB 35             Kick-off 、#19 佐藤 太希キック …NR 23, #2 宮幸 崇 11yリターン(#19 佐藤 太希)',\n",
       " 'ノジマ相模原ライズ 3:56',\n",
       " '1&10-NR34 R     PASS  #6 KURT PALANDECH パス失敗',\n",
       " '2&10-NR34 R     PASS  #6 KURT PALANDECH パス失敗',\n",
       " '3&10-NR34 R      PASS  #6 KURT PALANDECH 一 #20 DERECK AKIRA WILLIAMS 6yパス(#57 寺林 )',\n",
       " '4&4 -NR40 R     PUNT 絢3 鈴木 健太 パント …BB 25, #86 九里 遼太 18yリターン(#27 若島 慎兵)',\n",
       " 'IBM BigBlue 2:34',\n",
       " '1&10-BB43 R     PASS  #3 Kevin Craft パス失敗',\n",
       " '2&10-BB43 R      PASS 、#3 Kevin Craft 一 #82 白根 混 10yパス(#24 織田 裕樹)                                                    P8',\n",
       " '1&10-NR47 M PASS  #3KevinCraft 一 #47 山中 大輔 -4yパス(#5 田中 喜貴)',\n",
       " '2&14-BB49 L      PASS #3 Kevin Craft 一 #14 遠藤 健史 24yパス(ば24 織田 裕樹、 #56 浦野 雄大)                                   P9']"
      ]
     },
     "execution_count": 15,
     "metadata": {},
     "output_type": "execute_result"
    }
   ],
   "source": [
    "lines_strip"
   ]
  },
  {
   "cell_type": "code",
   "execution_count": 16,
   "id": "2f91ec11",
   "metadata": {},
   "outputs": [],
   "source": [
    "l_XXX = [line for line in lines_strip if ('&' in line) or ('Penalty' in line) or ('Kick-off' in line) or ('Extra Point' in line) or ('TIMEOUT' in line) or (':' in line)]"
   ]
  },
  {
   "cell_type": "code",
   "execution_count": 17,
   "id": "0c20e565",
   "metadata": {},
   "outputs": [],
   "source": [
    "remove_space = [line.replace(' ', '') for line in l_XXX]"
   ]
  },
  {
   "cell_type": "code",
   "execution_count": 18,
   "id": "f9d9ade1",
   "metadata": {},
   "outputs": [
    {
     "data": {
      "text/plain": [
       "0    2020/11/23(月)会場:富士通スタジアム川崎\n",
       "dtype: object"
      ]
     },
     "execution_count": 18,
     "metadata": {},
     "output_type": "execute_result"
    }
   ],
   "source": [
    "pd.Series(remove_space[0])"
   ]
  },
  {
   "cell_type": "code",
   "execution_count": 19,
   "id": "2e0f3899",
   "metadata": {
    "collapsed": true,
    "jupyter": {
     "outputs_hidden": true
    }
   },
   "outputs": [
    {
     "name": "stdout",
     "output_type": "stream",
     "text": [
      "[False]\n",
      "[ True]\n",
      "[False]\n",
      "[False]\n",
      "[False]\n",
      "[False]\n",
      "[False]\n",
      "[False]\n",
      "[ True]\n",
      "[False]\n",
      "[False]\n",
      "[False]\n",
      "[False]\n",
      "[ True]\n",
      "[False]\n",
      "[False]\n",
      "[False]\n",
      "[ True]\n",
      "[False]\n",
      "[False]\n",
      "[False]\n",
      "[ True]\n",
      "[False]\n",
      "[False]\n",
      "[False]\n",
      "[False]\n",
      "[False]\n",
      "[False]\n",
      "[False]\n",
      "[False]\n",
      "[False]\n",
      "[False]\n",
      "[False]\n",
      "[False]\n",
      "[ True]\n",
      "[False]\n",
      "[False]\n",
      "[False]\n",
      "[False]\n",
      "[False]\n",
      "[False]\n",
      "[False]\n",
      "[ True]\n",
      "[False]\n",
      "[False]\n",
      "[False]\n",
      "[False]\n",
      "[ True]\n",
      "[False]\n",
      "[False]\n",
      "[False]\n",
      "[False]\n"
     ]
    }
   ],
   "source": [
    "for i in range(len(remove_space)):\n",
    "    print(pd.Series(remove_space[i]).str.contains(\"\\d+:\\d+\").values)"
   ]
  },
  {
   "cell_type": "code",
   "execution_count": null,
   "id": "810db245",
   "metadata": {},
   "outputs": [],
   "source": []
  },
  {
   "cell_type": "code",
   "execution_count": 25,
   "id": "32821c85",
   "metadata": {},
   "outputs": [
    {
     "data": {
      "text/plain": [
       "['2020/11/23(月)会場:富士通スタジアム川崎',\n",
       " 'ノジマ相模原ライズ12:00',\n",
       " '2&12-NR42MRUN#6KURTPALANDECH0yラン(#35GamboaHerbert)-NoPlay',\n",
       " '+PenaltyNR#67ホールディング10y久退',\n",
       " '2&22-NR32MPASS#6KURTPALANDECHパス失敗',\n",
       " '3&22-NR32MPASS#6KURTPALANDECHパス失敗',\n",
       " '4&22-NR32MPUNT約3鈴木健太パント,ボールデッド',\n",
       " '+PenaltyNR#O0パーソナルファウル15y久退',\n",
       " 'IBMBigBlue11:14',\n",
       " '1&10-BB25LPASS、#3KevinCraft一#80河村暁光8yパス(18増山純季)',\n",
       " '2&2-BB33RRUN#4鈴木恵多1yラン',\n",
       " '3&1-BB34RRUN#47山中大輔-1yラン(#5田中喜貴)',\n",
       " '4&2-BB33RPUNT#5KevinCoghlanパント…NR33,#23伊藤雅恭yリターン(#18小川知輝)',\n",
       " 'ノジマ相模原ライズ9:36',\n",
       " '1&10-NR40LPASS#6KURTPALANDECH一#26森本統介60yパス,TOUCHDOWNP2',\n",
       " 'ExtraPoint,#59笹尾健キック(H/#23伊藤雅奈)GOOD',\n",
       " 'NR35Kick-off#3鈴木健太キック…BB0,#21佐藤航生24ッリターン(#31新井直樹)',\n",
       " 'IBMBigBlue9:23',\n",
       " '1&10-BB24MPASS#3KevinCraftパス失敗',\n",
       " '2&10-BB24MPASS#3KevinCraftパス失敗',\n",
       " '3&10-BB24MPASS#3KevinCraftパス失敗INTERCEPT#5田中喜貴…BB49、0yリターン',\n",
       " 'ノジマ相模原ライズ8:51',\n",
       " '1&10-BB49LRUN#6KURTPALANDECH21yランR3',\n",
       " '1&10-BB28RRUN#26森本統介8yラン(#35GamboaHerbert)',\n",
       " '2&2-BB20RRUN#20DERECKAKIRAWILLIAMS1yラン',\n",
       " '3&1-BB19RRUN#20DERECKAKIRAWILLIAMS0yラン(#35GamboaHerbert,#22中山裕貴)',\n",
       " 'TIMEOUTノジマ相模原ライズ1回目',\n",
       " '4&1-BB19MRUN#26森本統介0yラン-NoPlay',\n",
       " '+PenaltyBBオフサイド5y久退X4',\n",
       " '1&10-BB14RPASS#6KURTPALANDECHパス失敗',\n",
       " '2&10-BB14RRUN#26森本統介4ケラン(#35GamboaHerbert)',\n",
       " '3&6-BB10LPASS#6KURTPALANDECHパス失敗',\n",
       " '4&6-BB10LFG#59笹尾健28yトライ(H/#23伊藤雅蒸)、GOOD',\n",
       " 'NR35Kick-off#3鈴木健太キック,#4鈴木恵多フェアキャッチ',\n",
       " 'IBMBigBlue5:25',\n",
       " '1&10-BB25LRUN#832元山伊織8yランば7LEEHIGHTOWER)',\n",
       " '2&2-BB33LPASS、#3KevinCraft一#40JohnStanton6yパスば7LEEHIGHTOWER)P6',\n",
       " '1&10-BB39LRUN#鈴木恵多1ソラン',\n",
       " '2&9-BB40LPASS#3KevinCraft一#40JohnStanton60yパス,TOUCHDOWNPP',\n",
       " '+PenaltyNR#3ホールディング(ディクライン)',\n",
       " 'ExtraPoint,#19佐藤太希キック(H/#7馬島臨太郎)、GOOD',\n",
       " 'BB35Kick-off、#19佐藤太希キック…NR23,#2宮幸崇11yリターン(#19佐藤太希)',\n",
       " 'ノジマ相模原ライズ3:56',\n",
       " '1&10-NR34RPASS#6KURTPALANDECHパス失敗',\n",
       " '2&10-NR34RPASS#6KURTPALANDECHパス失敗',\n",
       " '3&10-NR34RPASS#6KURTPALANDECH一#20DERECKAKIRAWILLIAMS6yパス(#57寺林)',\n",
       " '4&4-NR40RPUNT絢3鈴木健太パント…BB25,#86九里遼太18yリターン(#27若島慎兵)',\n",
       " 'IBMBigBlue2:34',\n",
       " '1&10-BB43RPASS#3KevinCraftパス失敗',\n",
       " '2&10-BB43RPASS、#3KevinCraft一#82白根混10yパス(#24織田裕樹)P8',\n",
       " '1&10-NR47MPASS#3KevinCraft一#47山中大輔-4yパス(#5田中喜貴)',\n",
       " '2&14-BB49LPASS#3KevinCraft一#14遠藤健史24yパス(ば24織田裕樹、#56浦野雄大)P9']"
      ]
     },
     "execution_count": 25,
     "metadata": {},
     "output_type": "execute_result"
    }
   ],
   "source": [
    "remove_space"
   ]
  },
  {
   "cell_type": "code",
   "execution_count": 20,
   "id": "67642e18",
   "metadata": {
    "collapsed": true,
    "jupyter": {
     "outputs_hidden": true
    }
   },
   "outputs": [
    {
     "data": {
      "text/plain": [
       "0     False\n",
       "1      True\n",
       "2     False\n",
       "3     False\n",
       "4     False\n",
       "5     False\n",
       "6     False\n",
       "7     False\n",
       "8      True\n",
       "9     False\n",
       "10    False\n",
       "11    False\n",
       "12    False\n",
       "13     True\n",
       "14    False\n",
       "15    False\n",
       "16    False\n",
       "17     True\n",
       "18    False\n",
       "19    False\n",
       "20    False\n",
       "21     True\n",
       "22    False\n",
       "23    False\n",
       "24    False\n",
       "25    False\n",
       "26    False\n",
       "27    False\n",
       "28    False\n",
       "29    False\n",
       "30    False\n",
       "31    False\n",
       "32    False\n",
       "33    False\n",
       "34     True\n",
       "35    False\n",
       "36    False\n",
       "37    False\n",
       "38    False\n",
       "39    False\n",
       "40    False\n",
       "41    False\n",
       "42     True\n",
       "43    False\n",
       "44    False\n",
       "45    False\n",
       "46    False\n",
       "47     True\n",
       "48    False\n",
       "49    False\n",
       "50    False\n",
       "51    False\n",
       "dtype: bool"
      ]
     },
     "execution_count": 20,
     "metadata": {},
     "output_type": "execute_result"
    }
   ],
   "source": [
    "pd.Series(remove_space).str.contains(\"\\d+:\\d+\")"
   ]
  },
  {
   "cell_type": "code",
   "execution_count": 19,
   "id": "69db5763",
   "metadata": {},
   "outputs": [],
   "source": [
    "df = pd.DataFrame(remove_space, columns=[\"test\"])"
   ]
  },
  {
   "cell_type": "code",
   "execution_count": 20,
   "id": "126a996b",
   "metadata": {
    "collapsed": true,
    "jupyter": {
     "outputs_hidden": true
    }
   },
   "outputs": [
    {
     "data": {
      "text/html": [
       "<div>\n",
       "<style scoped>\n",
       "    .dataframe tbody tr th:only-of-type {\n",
       "        vertical-align: middle;\n",
       "    }\n",
       "\n",
       "    .dataframe tbody tr th {\n",
       "        vertical-align: top;\n",
       "    }\n",
       "\n",
       "    .dataframe thead th {\n",
       "        text-align: right;\n",
       "    }\n",
       "</style>\n",
       "<table border=\"1\" class=\"dataframe\">\n",
       "  <thead>\n",
       "    <tr style=\"text-align: right;\">\n",
       "      <th></th>\n",
       "      <th>test</th>\n",
       "    </tr>\n",
       "  </thead>\n",
       "  <tbody>\n",
       "    <tr>\n",
       "      <th>0</th>\n",
       "      <td>2020/11/23(月)会場:富士通スタジアム川崎</td>\n",
       "    </tr>\n",
       "    <tr>\n",
       "      <th>1</th>\n",
       "      <td>ノジマ相模原ライズ12:00</td>\n",
       "    </tr>\n",
       "    <tr>\n",
       "      <th>2</th>\n",
       "      <td>2&amp;12-NR42MRUN#6KURTPALANDECH0yラン(#35GamboaHerb...</td>\n",
       "    </tr>\n",
       "    <tr>\n",
       "      <th>3</th>\n",
       "      <td>+PenaltyNR#67ホールディング10y久退</td>\n",
       "    </tr>\n",
       "    <tr>\n",
       "      <th>4</th>\n",
       "      <td>2&amp;22-NR32MPASS#6KURTPALANDECHパス失敗</td>\n",
       "    </tr>\n",
       "    <tr>\n",
       "      <th>5</th>\n",
       "      <td>3&amp;22-NR32MPASS#6KURTPALANDECHパス失敗</td>\n",
       "    </tr>\n",
       "    <tr>\n",
       "      <th>6</th>\n",
       "      <td>4&amp;22-NR32MPUNT約3鈴木健太パント,ボールデッド</td>\n",
       "    </tr>\n",
       "    <tr>\n",
       "      <th>7</th>\n",
       "      <td>+PenaltyNR#O0パーソナルファウル15y久退</td>\n",
       "    </tr>\n",
       "    <tr>\n",
       "      <th>8</th>\n",
       "      <td>IBMBigBlue11:14</td>\n",
       "    </tr>\n",
       "    <tr>\n",
       "      <th>9</th>\n",
       "      <td>1&amp;10-BB25LPASS、#3KevinCraft一#80河村暁光8yパス(18増山純季)</td>\n",
       "    </tr>\n",
       "    <tr>\n",
       "      <th>10</th>\n",
       "      <td>2&amp;2-BB33RRUN#4鈴木恵多1yラン</td>\n",
       "    </tr>\n",
       "    <tr>\n",
       "      <th>11</th>\n",
       "      <td>3&amp;1-BB34RRUN#47山中大輔-1yラン(#5田中喜貴)</td>\n",
       "    </tr>\n",
       "    <tr>\n",
       "      <th>12</th>\n",
       "      <td>4&amp;2-BB33RPUNT#5KevinCoghlanパント…NR33,#23伊藤雅恭yリタ...</td>\n",
       "    </tr>\n",
       "    <tr>\n",
       "      <th>13</th>\n",
       "      <td>ノジマ相模原ライズ9:36</td>\n",
       "    </tr>\n",
       "    <tr>\n",
       "      <th>14</th>\n",
       "      <td>1&amp;10-NR40LPASS#6KURTPALANDECH一#26森本統介60yパス,TOU...</td>\n",
       "    </tr>\n",
       "    <tr>\n",
       "      <th>15</th>\n",
       "      <td>ExtraPoint,#59笹尾健キック(H/#23伊藤雅奈)GOOD</td>\n",
       "    </tr>\n",
       "    <tr>\n",
       "      <th>16</th>\n",
       "      <td>NR35Kick-off#3鈴木健太キック…BB0,#21佐藤航生24ッリターン(#31新井直樹)</td>\n",
       "    </tr>\n",
       "    <tr>\n",
       "      <th>17</th>\n",
       "      <td>IBMBigBlue9:23</td>\n",
       "    </tr>\n",
       "    <tr>\n",
       "      <th>18</th>\n",
       "      <td>1&amp;10-BB24MPASS#3KevinCraftパス失敗</td>\n",
       "    </tr>\n",
       "    <tr>\n",
       "      <th>19</th>\n",
       "      <td>2&amp;10-BB24MPASS#3KevinCraftパス失敗</td>\n",
       "    </tr>\n",
       "    <tr>\n",
       "      <th>20</th>\n",
       "      <td>3&amp;10-BB24MPASS#3KevinCraftパス失敗INTERCEPT#5田中喜貴…...</td>\n",
       "    </tr>\n",
       "    <tr>\n",
       "      <th>21</th>\n",
       "      <td>ノジマ相模原ライズ8:51</td>\n",
       "    </tr>\n",
       "    <tr>\n",
       "      <th>22</th>\n",
       "      <td>1&amp;10-BB49LRUN#6KURTPALANDECH21yランR3</td>\n",
       "    </tr>\n",
       "    <tr>\n",
       "      <th>23</th>\n",
       "      <td>1&amp;10-BB28RRUN#26森本統介8yラン(#35GamboaHerbert)</td>\n",
       "    </tr>\n",
       "    <tr>\n",
       "      <th>24</th>\n",
       "      <td>2&amp;2-BB20RRUN#20DERECKAKIRAWILLIAMS1yラン</td>\n",
       "    </tr>\n",
       "    <tr>\n",
       "      <th>25</th>\n",
       "      <td>3&amp;1-BB19RRUN#20DERECKAKIRAWILLIAMS0yラン(#35Gamb...</td>\n",
       "    </tr>\n",
       "    <tr>\n",
       "      <th>26</th>\n",
       "      <td>TIMEOUTノジマ相模原ライズ1回目</td>\n",
       "    </tr>\n",
       "    <tr>\n",
       "      <th>27</th>\n",
       "      <td>4&amp;1-BB19MRUN#26森本統介0yラン-NoPlay</td>\n",
       "    </tr>\n",
       "    <tr>\n",
       "      <th>28</th>\n",
       "      <td>+PenaltyBBオフサイド5y久退X4</td>\n",
       "    </tr>\n",
       "    <tr>\n",
       "      <th>29</th>\n",
       "      <td>1&amp;10-BB14RPASS#6KURTPALANDECHパス失敗</td>\n",
       "    </tr>\n",
       "    <tr>\n",
       "      <th>30</th>\n",
       "      <td>2&amp;10-BB14RRUN#26森本統介4ケラン(#35GamboaHerbert)</td>\n",
       "    </tr>\n",
       "    <tr>\n",
       "      <th>31</th>\n",
       "      <td>3&amp;6-BB10LPASS#6KURTPALANDECHパス失敗</td>\n",
       "    </tr>\n",
       "    <tr>\n",
       "      <th>32</th>\n",
       "      <td>4&amp;6-BB10LFG#59笹尾健28yトライ(H/#23伊藤雅蒸)、GOOD</td>\n",
       "    </tr>\n",
       "    <tr>\n",
       "      <th>33</th>\n",
       "      <td>NR35Kick-off#3鈴木健太キック,#4鈴木恵多フェアキャッチ</td>\n",
       "    </tr>\n",
       "    <tr>\n",
       "      <th>34</th>\n",
       "      <td>IBMBigBlue5:25</td>\n",
       "    </tr>\n",
       "    <tr>\n",
       "      <th>35</th>\n",
       "      <td>1&amp;10-BB25LRUN#832元山伊織8yランば7LEEHIGHTOWER)</td>\n",
       "    </tr>\n",
       "    <tr>\n",
       "      <th>36</th>\n",
       "      <td>2&amp;2-BB33LPASS、#3KevinCraft一#40JohnStanton6yパスば...</td>\n",
       "    </tr>\n",
       "    <tr>\n",
       "      <th>37</th>\n",
       "      <td>1&amp;10-BB39LRUN#鈴木恵多1ソラン</td>\n",
       "    </tr>\n",
       "    <tr>\n",
       "      <th>38</th>\n",
       "      <td>2&amp;9-BB40LPASS#3KevinCraft一#40JohnStanton60yパス,...</td>\n",
       "    </tr>\n",
       "    <tr>\n",
       "      <th>39</th>\n",
       "      <td>+PenaltyNR#3ホールディング(ディクライン)</td>\n",
       "    </tr>\n",
       "    <tr>\n",
       "      <th>40</th>\n",
       "      <td>ExtraPoint,#19佐藤太希キック(H/#7馬島臨太郎)、GOOD</td>\n",
       "    </tr>\n",
       "    <tr>\n",
       "      <th>41</th>\n",
       "      <td>BB35Kick-off、#19佐藤太希キック…NR23,#2宮幸崇11yリターン(#19佐...</td>\n",
       "    </tr>\n",
       "    <tr>\n",
       "      <th>42</th>\n",
       "      <td>ノジマ相模原ライズ3:56</td>\n",
       "    </tr>\n",
       "    <tr>\n",
       "      <th>43</th>\n",
       "      <td>1&amp;10-NR34RPASS#6KURTPALANDECHパス失敗</td>\n",
       "    </tr>\n",
       "    <tr>\n",
       "      <th>44</th>\n",
       "      <td>2&amp;10-NR34RPASS#6KURTPALANDECHパス失敗</td>\n",
       "    </tr>\n",
       "    <tr>\n",
       "      <th>45</th>\n",
       "      <td>3&amp;10-NR34RPASS#6KURTPALANDECH一#20DERECKAKIRAWI...</td>\n",
       "    </tr>\n",
       "    <tr>\n",
       "      <th>46</th>\n",
       "      <td>4&amp;4-NR40RPUNT絢3鈴木健太パント…BB25,#86九里遼太18yリターン(#27...</td>\n",
       "    </tr>\n",
       "    <tr>\n",
       "      <th>47</th>\n",
       "      <td>IBMBigBlue2:34</td>\n",
       "    </tr>\n",
       "    <tr>\n",
       "      <th>48</th>\n",
       "      <td>1&amp;10-BB43RPASS#3KevinCraftパス失敗</td>\n",
       "    </tr>\n",
       "    <tr>\n",
       "      <th>49</th>\n",
       "      <td>2&amp;10-BB43RPASS、#3KevinCraft一#82白根混10yパス(#24織田裕...</td>\n",
       "    </tr>\n",
       "    <tr>\n",
       "      <th>50</th>\n",
       "      <td>1&amp;10-NR47MPASS#3KevinCraft一#47山中大輔-4yパス(#5田中喜貴)</td>\n",
       "    </tr>\n",
       "    <tr>\n",
       "      <th>51</th>\n",
       "      <td>2&amp;14-BB49LPASS#3KevinCraft一#14遠藤健史24yパス(ば24織田裕...</td>\n",
       "    </tr>\n",
       "  </tbody>\n",
       "</table>\n",
       "</div>"
      ],
      "text/plain": [
       "                                                 test\n",
       "0                          2020/11/23(月)会場:富士通スタジアム川崎\n",
       "1                                      ノジマ相模原ライズ12:00\n",
       "2   2&12-NR42MRUN#6KURTPALANDECH0yラン(#35GamboaHerb...\n",
       "3                           +PenaltyNR#67ホールディング10y久退\n",
       "4                   2&22-NR32MPASS#6KURTPALANDECHパス失敗\n",
       "5                   3&22-NR32MPASS#6KURTPALANDECHパス失敗\n",
       "6                      4&22-NR32MPUNT約3鈴木健太パント,ボールデッド\n",
       "7                         +PenaltyNR#O0パーソナルファウル15y久退\n",
       "8                                     IBMBigBlue11:14\n",
       "9     1&10-BB25LPASS、#3KevinCraft一#80河村暁光8yパス(18増山純季)\n",
       "10                             2&2-BB33RRUN#4鈴木恵多1yラン\n",
       "11                   3&1-BB34RRUN#47山中大輔-1yラン(#5田中喜貴)\n",
       "12  4&2-BB33RPUNT#5KevinCoghlanパント…NR33,#23伊藤雅恭yリタ...\n",
       "13                                      ノジマ相模原ライズ9:36\n",
       "14  1&10-NR40LPASS#6KURTPALANDECH一#26森本統介60yパス,TOU...\n",
       "15                ExtraPoint,#59笹尾健キック(H/#23伊藤雅奈)GOOD\n",
       "16  NR35Kick-off#3鈴木健太キック…BB0,#21佐藤航生24ッリターン(#31新井直樹)\n",
       "17                                     IBMBigBlue9:23\n",
       "18                     1&10-BB24MPASS#3KevinCraftパス失敗\n",
       "19                     2&10-BB24MPASS#3KevinCraftパス失敗\n",
       "20  3&10-BB24MPASS#3KevinCraftパス失敗INTERCEPT#5田中喜貴…...\n",
       "21                                      ノジマ相模原ライズ8:51\n",
       "22                1&10-BB49LRUN#6KURTPALANDECH21yランR3\n",
       "23         1&10-BB28RRUN#26森本統介8yラン(#35GamboaHerbert)\n",
       "24             2&2-BB20RRUN#20DERECKAKIRAWILLIAMS1yラン\n",
       "25  3&1-BB19RRUN#20DERECKAKIRAWILLIAMS0yラン(#35Gamb...\n",
       "26                                TIMEOUTノジマ相模原ライズ1回目\n",
       "27                     4&1-BB19MRUN#26森本統介0yラン-NoPlay\n",
       "28                              +PenaltyBBオフサイド5y久退X4\n",
       "29                  1&10-BB14RPASS#6KURTPALANDECHパス失敗\n",
       "30         2&10-BB14RRUN#26森本統介4ケラン(#35GamboaHerbert)\n",
       "31                   3&6-BB10LPASS#6KURTPALANDECHパス失敗\n",
       "32            4&6-BB10LFG#59笹尾健28yトライ(H/#23伊藤雅蒸)、GOOD\n",
       "33                NR35Kick-off#3鈴木健太キック,#4鈴木恵多フェアキャッチ\n",
       "34                                     IBMBigBlue5:25\n",
       "35           1&10-BB25LRUN#832元山伊織8yランば7LEEHIGHTOWER)\n",
       "36  2&2-BB33LPASS、#3KevinCraft一#40JohnStanton6yパスば...\n",
       "37                             1&10-BB39LRUN#鈴木恵多1ソラン\n",
       "38  2&9-BB40LPASS#3KevinCraft一#40JohnStanton60yパス,...\n",
       "39                        +PenaltyNR#3ホールディング(ディクライン)\n",
       "40              ExtraPoint,#19佐藤太希キック(H/#7馬島臨太郎)、GOOD\n",
       "41  BB35Kick-off、#19佐藤太希キック…NR23,#2宮幸崇11yリターン(#19佐...\n",
       "42                                      ノジマ相模原ライズ3:56\n",
       "43                  1&10-NR34RPASS#6KURTPALANDECHパス失敗\n",
       "44                  2&10-NR34RPASS#6KURTPALANDECHパス失敗\n",
       "45  3&10-NR34RPASS#6KURTPALANDECH一#20DERECKAKIRAWI...\n",
       "46  4&4-NR40RPUNT絢3鈴木健太パント…BB25,#86九里遼太18yリターン(#27...\n",
       "47                                     IBMBigBlue2:34\n",
       "48                     1&10-BB43RPASS#3KevinCraftパス失敗\n",
       "49  2&10-BB43RPASS、#3KevinCraft一#82白根混10yパス(#24織田裕...\n",
       "50    1&10-NR47MPASS#3KevinCraft一#47山中大輔-4yパス(#5田中喜貴)\n",
       "51  2&14-BB49LPASS#3KevinCraft一#14遠藤健史24yパス(ば24織田裕..."
      ]
     },
     "execution_count": 20,
     "metadata": {},
     "output_type": "execute_result"
    }
   ],
   "source": [
    "df"
   ]
  },
  {
   "cell_type": "code",
   "execution_count": 21,
   "id": "c5f45092",
   "metadata": {},
   "outputs": [],
   "source": [
    "s = df[\"test\"][2]"
   ]
  },
  {
   "cell_type": "code",
   "execution_count": 22,
   "id": "37a83b56",
   "metadata": {},
   "outputs": [],
   "source": [
    "f = df[\"test\"][6]"
   ]
  },
  {
   "cell_type": "code",
   "execution_count": 23,
   "id": "710fa635",
   "metadata": {},
   "outputs": [],
   "source": [
    "k = df[\"test\"][0]"
   ]
  },
  {
   "cell_type": "code",
   "execution_count": 29,
   "id": "bb6e9ac3",
   "metadata": {},
   "outputs": [],
   "source": [
    "o = df[\"test\"][1]"
   ]
  },
  {
   "cell_type": "code",
   "execution_count": 30,
   "id": "6fd98c5f",
   "metadata": {},
   "outputs": [
    {
     "data": {
      "text/plain": [
       "'ノジマ相模原ライズ12:00'"
      ]
     },
     "execution_count": 30,
     "metadata": {},
     "output_type": "execute_result"
    }
   ],
   "source": [
    "o"
   ]
  },
  {
   "cell_type": "code",
   "execution_count": 24,
   "id": "f24bd4a0",
   "metadata": {},
   "outputs": [
    {
     "data": {
      "text/plain": [
       "'2&12-NR42MRUN#6KURTPALANDECH0yラン(#35GamboaHerbert)-NoPlay'"
      ]
     },
     "execution_count": 24,
     "metadata": {},
     "output_type": "execute_result"
    }
   ],
   "source": [
    "s"
   ]
  },
  {
   "cell_type": "code",
   "execution_count": 25,
   "id": "b1a9446b",
   "metadata": {},
   "outputs": [
    {
     "data": {
      "text/plain": [
       "'2020/11/23(月)会場:富士通スタジアム川崎'"
      ]
     },
     "execution_count": 25,
     "metadata": {},
     "output_type": "execute_result"
    }
   ],
   "source": [
    "k"
   ]
  },
  {
   "cell_type": "code",
   "execution_count": 26,
   "id": "240bb407",
   "metadata": {},
   "outputs": [
    {
     "data": {
      "text/plain": [
       "'4&22-NR32MPUNT約3鈴木健太パント,ボールデッド'"
      ]
     },
     "execution_count": 26,
     "metadata": {},
     "output_type": "execute_result"
    }
   ],
   "source": [
    "f"
   ]
  },
  {
   "cell_type": "code",
   "execution_count": 30,
   "id": "16d00d6e",
   "metadata": {},
   "outputs": [
    {
     "name": "stdout",
     "output_type": "stream",
     "text": [
      "True\n"
     ]
    }
   ],
   "source": [
    "print(\"PASS\" in s)"
   ]
  },
  {
   "cell_type": "code",
   "execution_count": 49,
   "id": "87744d81",
   "metadata": {},
   "outputs": [],
   "source": [
    "import re\n",
    "m = re.search(r'\\d+y', s)\n",
    "l = re.search(r'\\d+', m.group())"
   ]
  },
  {
   "cell_type": "code",
   "execution_count": 50,
   "id": "aa48b96b",
   "metadata": {},
   "outputs": [
    {
     "data": {
      "text/plain": [
       "'11'"
      ]
     },
     "execution_count": 50,
     "metadata": {},
     "output_type": "execute_result"
    }
   ],
   "source": [
    "l.group()"
   ]
  },
  {
   "cell_type": "code",
   "execution_count": 55,
   "id": "97ea0ddd",
   "metadata": {},
   "outputs": [
    {
     "name": "stdout",
     "output_type": "stream",
     "text": [
      "['2', '10']\n"
     ]
    }
   ],
   "source": [
    "q = re.search(r'[1234]&\\d+', s)\n",
    "h = re.split(\"&\", q.group())\n",
    "print(h)"
   ]
  },
  {
   "cell_type": "code",
   "execution_count": 52,
   "id": "9ca3821f",
   "metadata": {},
   "outputs": [
    {
     "data": {
      "text/plain": [
       "'2&10'"
      ]
     },
     "execution_count": 52,
     "metadata": {},
     "output_type": "execute_result"
    }
   ],
   "source": [
    "q.group()"
   ]
  },
  {
   "cell_type": "code",
   "execution_count": 67,
   "id": "e4b5fbb5",
   "metadata": {},
   "outputs": [
    {
     "name": "stdout",
     "output_type": "stream",
     "text": [
      "BB31R\n",
      "BB\n",
      "31\n",
      "R\n"
     ]
    }
   ],
   "source": [
    "p = re.search(r'\\w\\w\\d+[LMR]', s)\n",
    "l = p.group()\n",
    "h = re.search(r'\\d+', l)\n",
    "print(l)\n",
    "print(l[0:2])\n",
    "print(h.group())\n",
    "print(l[-1])"
   ]
  },
  {
   "cell_type": "code",
   "execution_count": 15,
   "id": "b3f3fbbc",
   "metadata": {},
   "outputs": [],
   "source": [
    "test_list = [(remove_space[i], i) for i in range(len(remove_space)) if pd.Series(remove_space[i]).str.contains(\"\\d+:\\d+\").values]"
   ]
  },
  {
   "cell_type": "code",
   "execution_count": 16,
   "id": "3b3c66a1",
   "metadata": {},
   "outputs": [
    {
     "data": {
      "text/plain": [
       "[('ノジマ相模原ライズ12:00', 1),\n",
       " ('IBMBigBlue11:14', 8),\n",
       " ('ノジマ相模原ライズ9:36', 13),\n",
       " ('IBMBigBlue9:23', 17),\n",
       " ('ノジマ相模原ライズ8:51', 21),\n",
       " ('IBMBigBlue5:25', 34),\n",
       " ('ノジマ相模原ライズ3:56', 42),\n",
       " ('IBMBigBlue2:34', 47)]"
      ]
     },
     "execution_count": 16,
     "metadata": {},
     "output_type": "execute_result"
    }
   ],
   "source": [
    "test_list"
   ]
  },
  {
   "cell_type": "code",
   "execution_count": 31,
   "id": "b4f90c5c",
   "metadata": {},
   "outputs": [
    {
     "data": {
      "text/plain": [
       "('ノジマ相模原ライズ12:00',\n",
       " '2&12-NR42MRUN#6KURTPALANDECH0yラン(#35GamboaHerbert)-NoPlay',\n",
       " '2020/11/23(月)会場:富士通スタジアム川崎',\n",
       " '4&22-NR32MPUNT約3鈴木健太パント,ボールデッド')"
      ]
     },
     "execution_count": 31,
     "metadata": {},
     "output_type": "execute_result"
    }
   ],
   "source": [
    "o, s, k, f"
   ]
  },
  {
   "cell_type": "code",
   "execution_count": 42,
   "id": "a5383b51",
   "metadata": {},
   "outputs": [
    {
     "name": "stdout",
     "output_type": "stream",
     "text": [
      "<re.Match object; span=(9, 14), match='12:00'>\n"
     ]
    },
    {
     "data": {
      "text/plain": [
       "'ノジマ相模原ライズ'"
      ]
     },
     "execution_count": 42,
     "metadata": {},
     "output_type": "execute_result"
    }
   ],
   "source": [
    "ot = re.search(r'\\d+:\\d+', o)\n",
    "print(ot)\n",
    "oo = re.search(r'\\D+', o)\n",
    "oo.group()"
   ]
  },
  {
   "cell_type": "code",
   "execution_count": 17,
   "id": "bb0abc13",
   "metadata": {},
   "outputs": [
    {
     "name": "stdout",
     "output_type": "stream",
     "text": [
      "ノジマ相模原ライズ12:00 1\n",
      "IBMBigBlue11:14 8\n",
      "ノジマ相模原ライズ9:36 13\n",
      "IBMBigBlue9:23 17\n",
      "ノジマ相模原ライズ8:51 21\n",
      "IBMBigBlue5:25 34\n",
      "ノジマ相模原ライズ3:56 42\n",
      "IBMBigBlue2:34 47\n"
     ]
    }
   ],
   "source": [
    "for i in range(len(remove_space)):\n",
    "    if pd.Series(remove_space[i]).str.contains(\"\\d+:\\d+\").values:\n",
    "        print(remove_space[i], i)"
   ]
  },
  {
   "cell_type": "code",
   "execution_count": 43,
   "id": "20a08a7d",
   "metadata": {},
   "outputs": [],
   "source": [
    "def get_offense_team(s):\n",
    "    offense_team = np.nan\n",
    "    ot = re.search(r'\\d+:\\d+', s)\n",
    "    if ot:\n",
    "        offense_team = re.search(r'\\D+', s).group()\n",
    "    return offense_team"
   ]
  },
  {
   "cell_type": "code",
   "execution_count": 46,
   "id": "35ee741d",
   "metadata": {},
   "outputs": [
    {
     "data": {
      "text/plain": [
       "'ノジマ相模原ライズ'"
      ]
     },
     "execution_count": 46,
     "metadata": {},
     "output_type": "execute_result"
    }
   ],
   "source": [
    "get_offense_team(o)"
   ]
  },
  {
   "cell_type": "code",
   "execution_count": 47,
   "id": "05db7a97",
   "metadata": {},
   "outputs": [
    {
     "data": {
      "text/plain": [
       "nan"
      ]
     },
     "execution_count": 47,
     "metadata": {},
     "output_type": "execute_result"
    }
   ],
   "source": [
    "get_offense_team(s)"
   ]
  },
  {
   "cell_type": "code",
   "execution_count": 57,
   "id": "e3f65c75",
   "metadata": {},
   "outputs": [],
   "source": [
    "def get_fieldposition(s):\n",
    "    position = \"?\"\n",
    "    y = \"?\"\n",
    "    Hash = \"?\"\n",
    "    fp = re.search(r'\\w\\w\\d+[LMR]', s)\n",
    "    if fp is not None:\n",
    "        fp_all = fp.group()\n",
    "        yard = re.search(r'\\d+', fp_all)\n",
    "        y = yard.group()\n",
    "        position = fp_all[0:2]\n",
    "        Hash = fp_all[-1]\n",
    "    return position, y, Hash"
   ]
  },
  {
   "cell_type": "code",
   "execution_count": 58,
   "id": "b27dac54",
   "metadata": {},
   "outputs": [],
   "source": [
    "def get_downdistance(s):\n",
    "    down = \"?\"\n",
    "    distance = \"?\"\n",
    "    dd = re.search(r'[1234]&\\d+', s)\n",
    "    if dd is not None:\n",
    "        dd_split = re.split(\"&\", dd.group())\n",
    "        down = dd_split[0]\n",
    "        distance = dd_split[1]\n",
    "    return down, distance"
   ]
  },
  {
   "cell_type": "code",
   "execution_count": 59,
   "id": "db56b92b",
   "metadata": {},
   "outputs": [],
   "source": [
    "def get_gain(s):\n",
    "    gain = \"?\"\n",
    "    yardy = re.search(r'-*\\d+y', s)\n",
    "    if yardy is not None:\n",
    "        yard = re.search(r'-*\\d+', yardy.group())\n",
    "        gain = yard.group()\n",
    "    return gain"
   ]
  },
  {
   "cell_type": "code",
   "execution_count": 60,
   "id": "5eda8014",
   "metadata": {},
   "outputs": [],
   "source": [
    "def get_playtype(s):\n",
    "    play_type = \"?\"\n",
    "    if \"RUN\" in s:\n",
    "        play_type = \"RUN\"\n",
    "    elif \"PASS\" in s:\n",
    "        play_type = \"PASS\"\n",
    "    elif \"FG\" in s:\n",
    "        play_type = \"FG\"\n",
    "    elif \"PUNT\" in s:\n",
    "        play_type = \"PUNT\"\n",
    "    elif \"Kick-off\" in s:\n",
    "        play_type = \"KICK OFF\"\n",
    "    else:\n",
    "        pass\n",
    "    return play_type"
   ]
  },
  {
   "cell_type": "code",
   "execution_count": 61,
   "id": "1d475faf",
   "metadata": {},
   "outputs": [],
   "source": [
    "def get_stats_dict(s):\n",
    "    position, y, Hash = get_fieldposition(s)\n",
    "    down, distance = get_downdistance(s)\n",
    "    gain = get_gain(s)\n",
    "    play_type = get_playtype(s)\n",
    "    stats_list = [(\"position\", position), (\"yard\", y), (\"hash\", Hash),\n",
    "                  (\"down\", down), (\"distance\", distance), (\"gain\", gain),\n",
    "                  (\"play_type\", play_type)]\n",
    "    stats_dict = dict(stats_list)\n",
    "    return stats_dict"
   ]
  },
  {
   "cell_type": "code",
   "execution_count": 99,
   "id": "9252229a",
   "metadata": {},
   "outputs": [],
   "source": [
    "stats_list = []\n",
    "for i in range(len(df[\"test\"])):\n",
    "    stats_list.append(get_stats_dict(df[\"test\"][i]))"
   ]
  },
  {
   "cell_type": "code",
   "execution_count": 116,
   "id": "70b7131a",
   "metadata": {},
   "outputs": [],
   "source": [
    "stats_list = [get_stats_dict(df[\"test\"][i]) for i in range(len(df[\"test\"]))]"
   ]
  },
  {
   "cell_type": "code",
   "execution_count": 66,
   "id": "6190700f",
   "metadata": {},
   "outputs": [
    {
     "name": "stdout",
     "output_type": "stream",
     "text": [
      "{'position': '?', 'yard': '?', 'hash': '?', 'down': '?', 'distance': '?', 'gain': '?', 'play_type': '?'}\n",
      "{'position': '?', 'yard': '?', 'hash': '?', 'down': '?', 'distance': '?', 'gain': '?', 'play_type': '?'}\n",
      "{'position': 'NR', 'yard': '42', 'hash': 'M', 'down': '2', 'distance': '12', 'gain': '0', 'play_type': 'RUN'}\n",
      "{'position': '?', 'yard': '?', 'hash': '?', 'down': '?', 'distance': '?', 'gain': '10', 'play_type': '?'}\n",
      "{'position': 'NR', 'yard': '32', 'hash': 'M', 'down': '2', 'distance': '22', 'gain': '?', 'play_type': 'PASS'}\n",
      "{'position': 'NR', 'yard': '32', 'hash': 'M', 'down': '3', 'distance': '22', 'gain': '?', 'play_type': 'PASS'}\n",
      "{'position': 'NR', 'yard': '32', 'hash': 'M', 'down': '4', 'distance': '22', 'gain': '?', 'play_type': 'PUNT'}\n",
      "{'position': '?', 'yard': '?', 'hash': '?', 'down': '?', 'distance': '?', 'gain': '15', 'play_type': '?'}\n",
      "{'position': '?', 'yard': '?', 'hash': '?', 'down': '?', 'distance': '?', 'gain': '?', 'play_type': '?'}\n",
      "{'position': 'BB', 'yard': '25', 'hash': 'L', 'down': '1', 'distance': '10', 'gain': '8', 'play_type': 'PASS'}\n",
      "{'position': 'BB', 'yard': '33', 'hash': 'R', 'down': '2', 'distance': '2', 'gain': '1', 'play_type': 'RUN'}\n",
      "{'position': 'BB', 'yard': '34', 'hash': 'R', 'down': '3', 'distance': '1', 'gain': '-1', 'play_type': 'RUN'}\n",
      "{'position': 'BB', 'yard': '33', 'hash': 'R', 'down': '4', 'distance': '2', 'gain': '?', 'play_type': 'PUNT'}\n",
      "{'position': '?', 'yard': '?', 'hash': '?', 'down': '?', 'distance': '?', 'gain': '?', 'play_type': '?'}\n",
      "{'position': 'NR', 'yard': '40', 'hash': 'L', 'down': '1', 'distance': '10', 'gain': '60', 'play_type': 'PASS'}\n",
      "{'position': '?', 'yard': '?', 'hash': '?', 'down': '?', 'distance': '?', 'gain': '?', 'play_type': '?'}\n",
      "{'position': '?', 'yard': '?', 'hash': '?', 'down': '?', 'distance': '?', 'gain': '?', 'play_type': 'KICK OFF'}\n",
      "{'position': '?', 'yard': '?', 'hash': '?', 'down': '?', 'distance': '?', 'gain': '?', 'play_type': '?'}\n",
      "{'position': 'BB', 'yard': '24', 'hash': 'M', 'down': '1', 'distance': '10', 'gain': '?', 'play_type': 'PASS'}\n",
      "{'position': 'BB', 'yard': '24', 'hash': 'M', 'down': '2', 'distance': '10', 'gain': '?', 'play_type': 'PASS'}\n",
      "{'position': 'BB', 'yard': '24', 'hash': 'M', 'down': '3', 'distance': '10', 'gain': '0', 'play_type': 'PASS'}\n",
      "{'position': '?', 'yard': '?', 'hash': '?', 'down': '?', 'distance': '?', 'gain': '?', 'play_type': '?'}\n",
      "{'position': 'BB', 'yard': '49', 'hash': 'L', 'down': '1', 'distance': '10', 'gain': '21', 'play_type': 'RUN'}\n",
      "{'position': 'BB', 'yard': '28', 'hash': 'R', 'down': '1', 'distance': '10', 'gain': '8', 'play_type': 'RUN'}\n",
      "{'position': 'BB', 'yard': '20', 'hash': 'R', 'down': '2', 'distance': '2', 'gain': '1', 'play_type': 'RUN'}\n",
      "{'position': 'BB', 'yard': '19', 'hash': 'R', 'down': '3', 'distance': '1', 'gain': '0', 'play_type': 'RUN'}\n",
      "{'position': '?', 'yard': '?', 'hash': '?', 'down': '?', 'distance': '?', 'gain': '?', 'play_type': '?'}\n",
      "{'position': 'BB', 'yard': '19', 'hash': 'M', 'down': '4', 'distance': '1', 'gain': '0', 'play_type': 'RUN'}\n",
      "{'position': '?', 'yard': '?', 'hash': '?', 'down': '?', 'distance': '?', 'gain': '5', 'play_type': '?'}\n",
      "{'position': 'BB', 'yard': '14', 'hash': 'R', 'down': '1', 'distance': '10', 'gain': '?', 'play_type': 'PASS'}\n",
      "{'position': 'BB', 'yard': '14', 'hash': 'R', 'down': '2', 'distance': '10', 'gain': '?', 'play_type': 'RUN'}\n",
      "{'position': 'BB', 'yard': '10', 'hash': 'L', 'down': '3', 'distance': '6', 'gain': '?', 'play_type': 'PASS'}\n",
      "{'position': 'BB', 'yard': '10', 'hash': 'L', 'down': '4', 'distance': '6', 'gain': '28', 'play_type': 'FG'}\n",
      "{'position': '?', 'yard': '?', 'hash': '?', 'down': '?', 'distance': '?', 'gain': '?', 'play_type': 'KICK OFF'}\n",
      "{'position': '?', 'yard': '?', 'hash': '?', 'down': '?', 'distance': '?', 'gain': '?', 'play_type': '?'}\n",
      "{'position': 'BB', 'yard': '25', 'hash': 'L', 'down': '1', 'distance': '10', 'gain': '8', 'play_type': 'RUN'}\n",
      "{'position': 'BB', 'yard': '33', 'hash': 'L', 'down': '2', 'distance': '2', 'gain': '6', 'play_type': 'PASS'}\n",
      "{'position': 'BB', 'yard': '39', 'hash': 'L', 'down': '1', 'distance': '10', 'gain': '?', 'play_type': 'RUN'}\n",
      "{'position': 'BB', 'yard': '40', 'hash': 'L', 'down': '2', 'distance': '9', 'gain': '60', 'play_type': 'PASS'}\n",
      "{'position': '?', 'yard': '?', 'hash': '?', 'down': '?', 'distance': '?', 'gain': '?', 'play_type': '?'}\n",
      "{'position': '?', 'yard': '?', 'hash': '?', 'down': '?', 'distance': '?', 'gain': '?', 'play_type': '?'}\n",
      "{'position': '?', 'yard': '?', 'hash': '?', 'down': '?', 'distance': '?', 'gain': '11', 'play_type': 'KICK OFF'}\n",
      "{'position': '?', 'yard': '?', 'hash': '?', 'down': '?', 'distance': '?', 'gain': '?', 'play_type': '?'}\n",
      "{'position': 'NR', 'yard': '34', 'hash': 'R', 'down': '1', 'distance': '10', 'gain': '?', 'play_type': 'PASS'}\n",
      "{'position': 'NR', 'yard': '34', 'hash': 'R', 'down': '2', 'distance': '10', 'gain': '?', 'play_type': 'PASS'}\n",
      "{'position': 'NR', 'yard': '34', 'hash': 'R', 'down': '3', 'distance': '10', 'gain': '6', 'play_type': 'PASS'}\n",
      "{'position': 'NR', 'yard': '40', 'hash': 'R', 'down': '4', 'distance': '4', 'gain': '18', 'play_type': 'PUNT'}\n",
      "{'position': '?', 'yard': '?', 'hash': '?', 'down': '?', 'distance': '?', 'gain': '?', 'play_type': '?'}\n",
      "{'position': 'BB', 'yard': '43', 'hash': 'R', 'down': '1', 'distance': '10', 'gain': '?', 'play_type': 'PASS'}\n",
      "{'position': 'BB', 'yard': '43', 'hash': 'R', 'down': '2', 'distance': '10', 'gain': '10', 'play_type': 'PASS'}\n",
      "{'position': 'NR', 'yard': '47', 'hash': 'M', 'down': '1', 'distance': '10', 'gain': '-4', 'play_type': 'PASS'}\n",
      "{'position': 'BB', 'yard': '49', 'hash': 'L', 'down': '2', 'distance': '14', 'gain': '24', 'play_type': 'PASS'}\n"
     ]
    }
   ],
   "source": [
    "for i in range(len(df[\"test\"])):\n",
    "    print(get_stats_dict(df[\"test\"][i]))"
   ]
  },
  {
   "cell_type": "code",
   "execution_count": 56,
   "id": "49e915bb",
   "metadata": {},
   "outputs": [
    {
     "ename": "NameError",
     "evalue": "name 'stats_list' is not defined",
     "output_type": "error",
     "traceback": [
      "\u001b[1;31m---------------------------------------------------------------------------\u001b[0m",
      "\u001b[1;31mNameError\u001b[0m                                 Traceback (most recent call last)",
      "\u001b[1;32m<ipython-input-56-0c4fb26bf51b>\u001b[0m in \u001b[0;36m<module>\u001b[1;34m\u001b[0m\n\u001b[1;32m----> 1\u001b[1;33m \u001b[0mstats1\u001b[0m \u001b[1;33m=\u001b[0m \u001b[0mpd\u001b[0m\u001b[1;33m.\u001b[0m\u001b[0mDataFrame\u001b[0m\u001b[1;33m(\u001b[0m\u001b[0mstats_list\u001b[0m\u001b[1;33m)\u001b[0m\u001b[1;33m\u001b[0m\u001b[1;33m\u001b[0m\u001b[0m\n\u001b[0m",
      "\u001b[1;31mNameError\u001b[0m: name 'stats_list' is not defined"
     ]
    }
   ],
   "source": [
    "stats1 = pd.DataFrame(stats_list)"
   ]
  },
  {
   "cell_type": "code",
   "execution_count": 117,
   "id": "41580b7a",
   "metadata": {
    "collapsed": true,
    "jupyter": {
     "outputs_hidden": true
    }
   },
   "outputs": [
    {
     "data": {
      "text/plain": [
       "[{'position': '?',\n",
       "  'yard': '?',\n",
       "  'hash': '?',\n",
       "  'down': '?',\n",
       "  'distance': '?',\n",
       "  'gain': '17',\n",
       "  'play_type': 'KICK OFF'},\n",
       " {'position': 'BB',\n",
       "  'yard': '31',\n",
       "  'hash': 'R',\n",
       "  'down': '1',\n",
       "  'distance': '10',\n",
       "  'gain': '?',\n",
       "  'play_type': 'PASS'},\n",
       " {'position': 'BB',\n",
       "  'yard': '31',\n",
       "  'hash': 'R',\n",
       "  'down': '2',\n",
       "  'distance': '10',\n",
       "  'gain': '11',\n",
       "  'play_type': 'PASS'},\n",
       " {'position': 'BB',\n",
       "  'yard': '42',\n",
       "  'hash': 'L',\n",
       "  'down': '1',\n",
       "  'distance': '10',\n",
       "  'gain': '7',\n",
       "  'play_type': 'PASS'},\n",
       " {'position': 'BB',\n",
       "  'yard': '49',\n",
       "  'hash': 'R',\n",
       "  'down': '2',\n",
       "  'distance': '3',\n",
       "  'gain': '10',\n",
       "  'play_type': 'PASS'},\n",
       " {'position': 'NR',\n",
       "  'yard': '41',\n",
       "  'hash': 'L',\n",
       "  'down': '1',\n",
       "  'distance': '10',\n",
       "  'gain': '?',\n",
       "  'play_type': 'RUN'},\n",
       " {'position': 'NR',\n",
       "  'yard': '38',\n",
       "  'hash': 'L',\n",
       "  'down': '2',\n",
       "  'distance': '7',\n",
       "  'gain': '-2',\n",
       "  'play_type': 'PASS'},\n",
       " {'position': 'NR',\n",
       "  'yard': '40',\n",
       "  'hash': 'R',\n",
       "  'down': '3',\n",
       "  'distance': '9',\n",
       "  'gain': '5',\n",
       "  'play_type': 'RUN'},\n",
       " {'position': 'NR',\n",
       "  'yard': '35',\n",
       "  'hash': 'M',\n",
       "  'down': '4',\n",
       "  'distance': '4',\n",
       "  'gain': '12',\n",
       "  'play_type': 'PASS'},\n",
       " {'position': 'NR',\n",
       "  'yard': '23',\n",
       "  'hash': 'R',\n",
       "  'down': '1',\n",
       "  'distance': '10',\n",
       "  'gain': '?',\n",
       "  'play_type': 'PASS'},\n",
       " {'position': '?',\n",
       "  'yard': '?',\n",
       "  'hash': '?',\n",
       "  'down': '?',\n",
       "  'distance': '?',\n",
       "  'gain': '5',\n",
       "  'play_type': '?'},\n",
       " {'position': 'NR',\n",
       "  'yard': '18',\n",
       "  'hash': 'R',\n",
       "  'down': '1',\n",
       "  'distance': '5',\n",
       "  'gain': '-1',\n",
       "  'play_type': 'RUN'},\n",
       " {'position': 'NR',\n",
       "  'yard': '19',\n",
       "  'hash': 'R',\n",
       "  'down': '2',\n",
       "  'distance': '6',\n",
       "  'gain': '?',\n",
       "  'play_type': 'PASS'},\n",
       " {'position': 'NR',\n",
       "  'yard': '19',\n",
       "  'hash': 'R',\n",
       "  'down': '3',\n",
       "  'distance': '6',\n",
       "  'gain': '?',\n",
       "  'play_type': 'PASS'},\n",
       " {'position': 'NR',\n",
       "  'yard': '19',\n",
       "  'hash': 'R',\n",
       "  'down': '4',\n",
       "  'distance': '6',\n",
       "  'gain': '?',\n",
       "  'play_type': 'PASS'},\n",
       " {'position': 'NR',\n",
       "  'yard': '19',\n",
       "  'hash': 'L',\n",
       "  'down': '1',\n",
       "  'distance': '10',\n",
       "  'gain': '8',\n",
       "  'play_type': 'RUN'},\n",
       " {'position': 'NR',\n",
       "  'yard': '27',\n",
       "  'hash': 'L',\n",
       "  'down': '2',\n",
       "  'distance': '2',\n",
       "  'gain': '0',\n",
       "  'play_type': 'RUN'},\n",
       " {'position': 'NR',\n",
       "  'yard': '27',\n",
       "  'hash': 'L',\n",
       "  'down': '3',\n",
       "  'distance': '2',\n",
       "  'gain': '0',\n",
       "  'play_type': 'RUN'},\n",
       " {'position': 'NR',\n",
       "  'yard': '27',\n",
       "  'hash': 'M',\n",
       "  'down': '4',\n",
       "  'distance': '2',\n",
       "  'gain': '10',\n",
       "  'play_type': 'PUNT'},\n",
       " {'position': 'BB',\n",
       "  'yard': '33',\n",
       "  'hash': 'R',\n",
       "  'down': '1',\n",
       "  'distance': '10',\n",
       "  'gain': '?',\n",
       "  'play_type': 'PASS'},\n",
       " {'position': 'BB',\n",
       "  'yard': '33',\n",
       "  'hash': 'R',\n",
       "  'down': '2',\n",
       "  'distance': '10',\n",
       "  'gain': '?',\n",
       "  'play_type': 'RUN'},\n",
       " {'position': 'BB',\n",
       "  'yard': '34',\n",
       "  'hash': 'M',\n",
       "  'down': '3',\n",
       "  'distance': '9',\n",
       "  'gain': '34',\n",
       "  'play_type': 'PASS'},\n",
       " {'position': 'NR',\n",
       "  'yard': '32',\n",
       "  'hash': 'R',\n",
       "  'down': '1',\n",
       "  'distance': '10',\n",
       "  'gain': '19',\n",
       "  'play_type': 'PASS'},\n",
       " {'position': 'NR',\n",
       "  'yard': '13',\n",
       "  'hash': 'M',\n",
       "  'down': '1',\n",
       "  'distance': '10',\n",
       "  'gain': '-3',\n",
       "  'play_type': 'RUN'},\n",
       " {'position': 'NR',\n",
       "  'yard': '16',\n",
       "  'hash': 'L',\n",
       "  'down': '2',\n",
       "  'distance': '13',\n",
       "  'gain': '-5',\n",
       "  'play_type': 'RUN'},\n",
       " {'position': 'NR',\n",
       "  'yard': '21',\n",
       "  'hash': 'L',\n",
       "  'down': '3',\n",
       "  'distance': '18',\n",
       "  'gain': '?',\n",
       "  'play_type': 'PASS'},\n",
       " {'position': 'NR',\n",
       "  'yard': '21',\n",
       "  'hash': 'L',\n",
       "  'down': '4',\n",
       "  'distance': '18',\n",
       "  'gain': '39',\n",
       "  'play_type': 'FG'},\n",
       " {'position': '?',\n",
       "  'yard': '?',\n",
       "  'hash': '?',\n",
       "  'down': '?',\n",
       "  'distance': '?',\n",
       "  'gain': '14',\n",
       "  'play_type': 'KICK OFF'},\n",
       " {'position': 'NR',\n",
       "  'yard': '30',\n",
       "  'hash': 'M',\n",
       "  'down': '1',\n",
       "  'distance': '10',\n",
       "  'gain': '4',\n",
       "  'play_type': 'RUN'},\n",
       " {'position': 'NR',\n",
       "  'yard': '34',\n",
       "  'hash': 'R',\n",
       "  'down': '2',\n",
       "  'distance': '6',\n",
       "  'gain': '?',\n",
       "  'play_type': 'PASS'},\n",
       " {'position': 'NR',\n",
       "  'yard': '34',\n",
       "  'hash': 'R',\n",
       "  'down': '3',\n",
       "  'distance': '6',\n",
       "  'gain': '10',\n",
       "  'play_type': 'PASS'},\n",
       " {'position': 'NR',\n",
       "  'yard': '44',\n",
       "  'hash': 'R',\n",
       "  'down': '1',\n",
       "  'distance': '10',\n",
       "  'gain': '-2',\n",
       "  'play_type': 'RUN'}]"
      ]
     },
     "execution_count": 117,
     "metadata": {},
     "output_type": "execute_result"
    }
   ],
   "source": [
    "stats_list"
   ]
  },
  {
   "cell_type": "code",
   "execution_count": 103,
   "id": "373216cf",
   "metadata": {},
   "outputs": [
    {
     "data": {
      "text/html": [
       "<div>\n",
       "<style scoped>\n",
       "    .dataframe tbody tr th:only-of-type {\n",
       "        vertical-align: middle;\n",
       "    }\n",
       "\n",
       "    .dataframe tbody tr th {\n",
       "        vertical-align: top;\n",
       "    }\n",
       "\n",
       "    .dataframe thead th {\n",
       "        text-align: right;\n",
       "    }\n",
       "</style>\n",
       "<table border=\"1\" class=\"dataframe\">\n",
       "  <thead>\n",
       "    <tr style=\"text-align: right;\">\n",
       "      <th></th>\n",
       "      <th>position</th>\n",
       "      <th>yard</th>\n",
       "      <th>hash</th>\n",
       "      <th>down</th>\n",
       "      <th>distance</th>\n",
       "      <th>gain</th>\n",
       "      <th>play_type</th>\n",
       "    </tr>\n",
       "  </thead>\n",
       "  <tbody>\n",
       "    <tr>\n",
       "      <th>0</th>\n",
       "      <td>?</td>\n",
       "      <td>?</td>\n",
       "      <td>?</td>\n",
       "      <td>?</td>\n",
       "      <td>?</td>\n",
       "      <td>17</td>\n",
       "      <td>KICK OFF</td>\n",
       "    </tr>\n",
       "    <tr>\n",
       "      <th>1</th>\n",
       "      <td>BB</td>\n",
       "      <td>31</td>\n",
       "      <td>R</td>\n",
       "      <td>1</td>\n",
       "      <td>10</td>\n",
       "      <td>?</td>\n",
       "      <td>PASS</td>\n",
       "    </tr>\n",
       "    <tr>\n",
       "      <th>2</th>\n",
       "      <td>BB</td>\n",
       "      <td>31</td>\n",
       "      <td>R</td>\n",
       "      <td>2</td>\n",
       "      <td>10</td>\n",
       "      <td>11</td>\n",
       "      <td>PASS</td>\n",
       "    </tr>\n",
       "    <tr>\n",
       "      <th>3</th>\n",
       "      <td>BB</td>\n",
       "      <td>42</td>\n",
       "      <td>L</td>\n",
       "      <td>1</td>\n",
       "      <td>10</td>\n",
       "      <td>7</td>\n",
       "      <td>PASS</td>\n",
       "    </tr>\n",
       "    <tr>\n",
       "      <th>4</th>\n",
       "      <td>BB</td>\n",
       "      <td>49</td>\n",
       "      <td>R</td>\n",
       "      <td>2</td>\n",
       "      <td>3</td>\n",
       "      <td>10</td>\n",
       "      <td>PASS</td>\n",
       "    </tr>\n",
       "    <tr>\n",
       "      <th>5</th>\n",
       "      <td>NR</td>\n",
       "      <td>41</td>\n",
       "      <td>L</td>\n",
       "      <td>1</td>\n",
       "      <td>10</td>\n",
       "      <td>?</td>\n",
       "      <td>RUN</td>\n",
       "    </tr>\n",
       "    <tr>\n",
       "      <th>6</th>\n",
       "      <td>NR</td>\n",
       "      <td>38</td>\n",
       "      <td>L</td>\n",
       "      <td>2</td>\n",
       "      <td>7</td>\n",
       "      <td>-2</td>\n",
       "      <td>PASS</td>\n",
       "    </tr>\n",
       "    <tr>\n",
       "      <th>7</th>\n",
       "      <td>NR</td>\n",
       "      <td>40</td>\n",
       "      <td>R</td>\n",
       "      <td>3</td>\n",
       "      <td>9</td>\n",
       "      <td>5</td>\n",
       "      <td>RUN</td>\n",
       "    </tr>\n",
       "    <tr>\n",
       "      <th>8</th>\n",
       "      <td>NR</td>\n",
       "      <td>35</td>\n",
       "      <td>M</td>\n",
       "      <td>4</td>\n",
       "      <td>4</td>\n",
       "      <td>12</td>\n",
       "      <td>PASS</td>\n",
       "    </tr>\n",
       "    <tr>\n",
       "      <th>9</th>\n",
       "      <td>NR</td>\n",
       "      <td>23</td>\n",
       "      <td>R</td>\n",
       "      <td>1</td>\n",
       "      <td>10</td>\n",
       "      <td>?</td>\n",
       "      <td>PASS</td>\n",
       "    </tr>\n",
       "    <tr>\n",
       "      <th>10</th>\n",
       "      <td>?</td>\n",
       "      <td>?</td>\n",
       "      <td>?</td>\n",
       "      <td>?</td>\n",
       "      <td>?</td>\n",
       "      <td>5</td>\n",
       "      <td>?</td>\n",
       "    </tr>\n",
       "    <tr>\n",
       "      <th>11</th>\n",
       "      <td>NR</td>\n",
       "      <td>18</td>\n",
       "      <td>R</td>\n",
       "      <td>1</td>\n",
       "      <td>5</td>\n",
       "      <td>-1</td>\n",
       "      <td>RUN</td>\n",
       "    </tr>\n",
       "    <tr>\n",
       "      <th>12</th>\n",
       "      <td>NR</td>\n",
       "      <td>19</td>\n",
       "      <td>R</td>\n",
       "      <td>2</td>\n",
       "      <td>6</td>\n",
       "      <td>?</td>\n",
       "      <td>PASS</td>\n",
       "    </tr>\n",
       "    <tr>\n",
       "      <th>13</th>\n",
       "      <td>NR</td>\n",
       "      <td>19</td>\n",
       "      <td>R</td>\n",
       "      <td>3</td>\n",
       "      <td>6</td>\n",
       "      <td>?</td>\n",
       "      <td>PASS</td>\n",
       "    </tr>\n",
       "    <tr>\n",
       "      <th>14</th>\n",
       "      <td>NR</td>\n",
       "      <td>19</td>\n",
       "      <td>R</td>\n",
       "      <td>4</td>\n",
       "      <td>6</td>\n",
       "      <td>?</td>\n",
       "      <td>PASS</td>\n",
       "    </tr>\n",
       "    <tr>\n",
       "      <th>15</th>\n",
       "      <td>NR</td>\n",
       "      <td>19</td>\n",
       "      <td>L</td>\n",
       "      <td>1</td>\n",
       "      <td>10</td>\n",
       "      <td>8</td>\n",
       "      <td>RUN</td>\n",
       "    </tr>\n",
       "    <tr>\n",
       "      <th>16</th>\n",
       "      <td>NR</td>\n",
       "      <td>27</td>\n",
       "      <td>L</td>\n",
       "      <td>2</td>\n",
       "      <td>2</td>\n",
       "      <td>0</td>\n",
       "      <td>RUN</td>\n",
       "    </tr>\n",
       "    <tr>\n",
       "      <th>17</th>\n",
       "      <td>NR</td>\n",
       "      <td>27</td>\n",
       "      <td>L</td>\n",
       "      <td>3</td>\n",
       "      <td>2</td>\n",
       "      <td>0</td>\n",
       "      <td>RUN</td>\n",
       "    </tr>\n",
       "    <tr>\n",
       "      <th>18</th>\n",
       "      <td>NR</td>\n",
       "      <td>27</td>\n",
       "      <td>M</td>\n",
       "      <td>4</td>\n",
       "      <td>2</td>\n",
       "      <td>10</td>\n",
       "      <td>PUNT</td>\n",
       "    </tr>\n",
       "    <tr>\n",
       "      <th>19</th>\n",
       "      <td>BB</td>\n",
       "      <td>33</td>\n",
       "      <td>R</td>\n",
       "      <td>1</td>\n",
       "      <td>10</td>\n",
       "      <td>?</td>\n",
       "      <td>PASS</td>\n",
       "    </tr>\n",
       "    <tr>\n",
       "      <th>20</th>\n",
       "      <td>BB</td>\n",
       "      <td>33</td>\n",
       "      <td>R</td>\n",
       "      <td>2</td>\n",
       "      <td>10</td>\n",
       "      <td>?</td>\n",
       "      <td>RUN</td>\n",
       "    </tr>\n",
       "    <tr>\n",
       "      <th>21</th>\n",
       "      <td>BB</td>\n",
       "      <td>34</td>\n",
       "      <td>M</td>\n",
       "      <td>3</td>\n",
       "      <td>9</td>\n",
       "      <td>34</td>\n",
       "      <td>PASS</td>\n",
       "    </tr>\n",
       "    <tr>\n",
       "      <th>22</th>\n",
       "      <td>NR</td>\n",
       "      <td>32</td>\n",
       "      <td>R</td>\n",
       "      <td>1</td>\n",
       "      <td>10</td>\n",
       "      <td>19</td>\n",
       "      <td>PASS</td>\n",
       "    </tr>\n",
       "    <tr>\n",
       "      <th>23</th>\n",
       "      <td>NR</td>\n",
       "      <td>13</td>\n",
       "      <td>M</td>\n",
       "      <td>1</td>\n",
       "      <td>10</td>\n",
       "      <td>-3</td>\n",
       "      <td>RUN</td>\n",
       "    </tr>\n",
       "    <tr>\n",
       "      <th>24</th>\n",
       "      <td>NR</td>\n",
       "      <td>16</td>\n",
       "      <td>L</td>\n",
       "      <td>2</td>\n",
       "      <td>13</td>\n",
       "      <td>-5</td>\n",
       "      <td>RUN</td>\n",
       "    </tr>\n",
       "    <tr>\n",
       "      <th>25</th>\n",
       "      <td>NR</td>\n",
       "      <td>21</td>\n",
       "      <td>L</td>\n",
       "      <td>3</td>\n",
       "      <td>18</td>\n",
       "      <td>?</td>\n",
       "      <td>PASS</td>\n",
       "    </tr>\n",
       "    <tr>\n",
       "      <th>26</th>\n",
       "      <td>NR</td>\n",
       "      <td>21</td>\n",
       "      <td>L</td>\n",
       "      <td>4</td>\n",
       "      <td>18</td>\n",
       "      <td>39</td>\n",
       "      <td>FG</td>\n",
       "    </tr>\n",
       "    <tr>\n",
       "      <th>27</th>\n",
       "      <td>?</td>\n",
       "      <td>?</td>\n",
       "      <td>?</td>\n",
       "      <td>?</td>\n",
       "      <td>?</td>\n",
       "      <td>14</td>\n",
       "      <td>KICK OFF</td>\n",
       "    </tr>\n",
       "    <tr>\n",
       "      <th>28</th>\n",
       "      <td>NR</td>\n",
       "      <td>30</td>\n",
       "      <td>M</td>\n",
       "      <td>1</td>\n",
       "      <td>10</td>\n",
       "      <td>4</td>\n",
       "      <td>RUN</td>\n",
       "    </tr>\n",
       "    <tr>\n",
       "      <th>29</th>\n",
       "      <td>NR</td>\n",
       "      <td>34</td>\n",
       "      <td>R</td>\n",
       "      <td>2</td>\n",
       "      <td>6</td>\n",
       "      <td>?</td>\n",
       "      <td>PASS</td>\n",
       "    </tr>\n",
       "    <tr>\n",
       "      <th>30</th>\n",
       "      <td>NR</td>\n",
       "      <td>34</td>\n",
       "      <td>R</td>\n",
       "      <td>3</td>\n",
       "      <td>6</td>\n",
       "      <td>10</td>\n",
       "      <td>PASS</td>\n",
       "    </tr>\n",
       "    <tr>\n",
       "      <th>31</th>\n",
       "      <td>NR</td>\n",
       "      <td>44</td>\n",
       "      <td>R</td>\n",
       "      <td>1</td>\n",
       "      <td>10</td>\n",
       "      <td>-2</td>\n",
       "      <td>RUN</td>\n",
       "    </tr>\n",
       "  </tbody>\n",
       "</table>\n",
       "</div>"
      ],
      "text/plain": [
       "   position yard hash down distance gain play_type\n",
       "0         ?    ?    ?    ?        ?   17  KICK OFF\n",
       "1        BB   31    R    1       10    ?      PASS\n",
       "2        BB   31    R    2       10   11      PASS\n",
       "3        BB   42    L    1       10    7      PASS\n",
       "4        BB   49    R    2        3   10      PASS\n",
       "5        NR   41    L    1       10    ?       RUN\n",
       "6        NR   38    L    2        7   -2      PASS\n",
       "7        NR   40    R    3        9    5       RUN\n",
       "8        NR   35    M    4        4   12      PASS\n",
       "9        NR   23    R    1       10    ?      PASS\n",
       "10        ?    ?    ?    ?        ?    5         ?\n",
       "11       NR   18    R    1        5   -1       RUN\n",
       "12       NR   19    R    2        6    ?      PASS\n",
       "13       NR   19    R    3        6    ?      PASS\n",
       "14       NR   19    R    4        6    ?      PASS\n",
       "15       NR   19    L    1       10    8       RUN\n",
       "16       NR   27    L    2        2    0       RUN\n",
       "17       NR   27    L    3        2    0       RUN\n",
       "18       NR   27    M    4        2   10      PUNT\n",
       "19       BB   33    R    1       10    ?      PASS\n",
       "20       BB   33    R    2       10    ?       RUN\n",
       "21       BB   34    M    3        9   34      PASS\n",
       "22       NR   32    R    1       10   19      PASS\n",
       "23       NR   13    M    1       10   -3       RUN\n",
       "24       NR   16    L    2       13   -5       RUN\n",
       "25       NR   21    L    3       18    ?      PASS\n",
       "26       NR   21    L    4       18   39        FG\n",
       "27        ?    ?    ?    ?        ?   14  KICK OFF\n",
       "28       NR   30    M    1       10    4       RUN\n",
       "29       NR   34    R    2        6    ?      PASS\n",
       "30       NR   34    R    3        6   10      PASS\n",
       "31       NR   44    R    1       10   -2       RUN"
      ]
     },
     "execution_count": 103,
     "metadata": {},
     "output_type": "execute_result"
    }
   ],
   "source": [
    "stats1"
   ]
  },
  {
   "cell_type": "code",
   "execution_count": 94,
   "id": "86dfe3da",
   "metadata": {},
   "outputs": [
    {
     "data": {
      "text/plain": [
       "{'position': 'NR',\n",
       " 'yard': '38',\n",
       " 'hash': 'L',\n",
       " 'down': '2',\n",
       " 'distance': '7',\n",
       " 'gain': '-2',\n",
       " 'play_type': 'PASS'}"
      ]
     },
     "execution_count": 94,
     "metadata": {},
     "output_type": "execute_result"
    }
   ],
   "source": [
    "get_stats_dict(f)"
   ]
  },
  {
   "cell_type": "code",
   "execution_count": 96,
   "id": "b2844453",
   "metadata": {},
   "outputs": [
    {
     "data": {
      "text/html": [
       "<div>\n",
       "<style scoped>\n",
       "    .dataframe tbody tr th:only-of-type {\n",
       "        vertical-align: middle;\n",
       "    }\n",
       "\n",
       "    .dataframe tbody tr th {\n",
       "        vertical-align: top;\n",
       "    }\n",
       "\n",
       "    .dataframe thead th {\n",
       "        text-align: right;\n",
       "    }\n",
       "</style>\n",
       "<table border=\"1\" class=\"dataframe\">\n",
       "  <thead>\n",
       "    <tr style=\"text-align: right;\">\n",
       "      <th></th>\n",
       "      <th>position</th>\n",
       "      <th>yard</th>\n",
       "      <th>hash</th>\n",
       "      <th>down</th>\n",
       "      <th>distance</th>\n",
       "      <th>gain</th>\n",
       "      <th>play_type</th>\n",
       "    </tr>\n",
       "  </thead>\n",
       "  <tbody>\n",
       "    <tr>\n",
       "      <th>0</th>\n",
       "      <td>NR</td>\n",
       "      <td>38</td>\n",
       "      <td>L</td>\n",
       "      <td>2</td>\n",
       "      <td>7</td>\n",
       "      <td>-2</td>\n",
       "      <td>PASS</td>\n",
       "    </tr>\n",
       "    <tr>\n",
       "      <th>1</th>\n",
       "      <td>BB</td>\n",
       "      <td>31</td>\n",
       "      <td>R</td>\n",
       "      <td>2</td>\n",
       "      <td>10</td>\n",
       "      <td>11</td>\n",
       "      <td>PASS</td>\n",
       "    </tr>\n",
       "    <tr>\n",
       "      <th>2</th>\n",
       "      <td>?</td>\n",
       "      <td>?</td>\n",
       "      <td>?</td>\n",
       "      <td>?</td>\n",
       "      <td>?</td>\n",
       "      <td>17</td>\n",
       "      <td>KICK OFF</td>\n",
       "    </tr>\n",
       "  </tbody>\n",
       "</table>\n",
       "</div>"
      ],
      "text/plain": [
       "  position yard hash down distance gain play_type\n",
       "0       NR   38    L    2        7   -2      PASS\n",
       "1       BB   31    R    2       10   11      PASS\n",
       "2        ?    ?    ?    ?        ?   17  KICK OFF"
      ]
     },
     "execution_count": 96,
     "metadata": {},
     "output_type": "execute_result"
    }
   ],
   "source": [
    "pd.DataFrame([get_stats_dict(f), get_stats_dict(s), get_stats_dict(k)])"
   ]
  },
  {
   "cell_type": "code",
   "execution_count": 87,
   "id": "2c72b1e0",
   "metadata": {},
   "outputs": [
    {
     "data": {
      "text/plain": [
       "'PASS'"
      ]
     },
     "execution_count": 87,
     "metadata": {},
     "output_type": "execute_result"
    }
   ],
   "source": [
    "get_playtype(s)"
   ]
  },
  {
   "cell_type": "code",
   "execution_count": 75,
   "id": "579d2cde",
   "metadata": {},
   "outputs": [
    {
     "data": {
      "text/plain": [
       "'11'"
      ]
     },
     "execution_count": 75,
     "metadata": {},
     "output_type": "execute_result"
    }
   ],
   "source": [
    "get_gain(s)"
   ]
  },
  {
   "cell_type": "code",
   "execution_count": 11,
   "id": "162ce442",
   "metadata": {},
   "outputs": [],
   "source": [
    "import re\n",
    "down_list = []\n",
    "dist_list = []\n",
    "jinti_list = []\n",
    "ball_on = []\n",
    "hash_list = []\n",
    "playtype_list = []\n",
    "for i in range(len(df[\"test\"])):\n",
    "    k = re.split(\"[&-]\", df[\"test\"][i])\n",
    "    down_list.append(k[0])\n",
    "    if len(k) >= 2:\n",
    "        dist_list.append(k[1])\n",
    "    else:\n",
    "        dist_list.append(\"nan\")\n",
    "    if len(k) >= 3:\n",
    "        jinti_list.append(k[2][:2])\n",
    "        ball_on.append(k[2][2:4])\n",
    "        hash_list.append(k[2][4])\n",
    "        if k[2][5:9] == \"PASS\":\n",
    "            playtype_list.append(\"PASS\")\n",
    "        elif k[2][5:8] ==\"RUN\":\n",
    "            playtype_list.append(\"RUN\")\n",
    "        elif k[2][5:7] == \"FG\":\n",
    "            playtype_list.append(\"FG\")\n",
    "        elif k[2][5:8] == \"PUNT\":\n",
    "            playtype_list.append(\"PUNT\")\n",
    "        else:\n",
    "            playtype_list.append(\"?\")\n",
    "    else:\n",
    "        jinti_list.append(\"nan\")\n",
    "        ball_on.append(\"nan\")\n",
    "        hash_list.append(\"nan\")\n",
    "        playtype_list.append(\"nan\")"
   ]
  },
  {
   "cell_type": "code",
   "execution_count": 12,
   "id": "f1005945",
   "metadata": {},
   "outputs": [],
   "source": [
    "df[\"down\"] = down_list"
   ]
  },
  {
   "cell_type": "code",
   "execution_count": 13,
   "id": "c26c8db4",
   "metadata": {},
   "outputs": [],
   "source": [
    "df[\"dist\"] = dist_list"
   ]
  },
  {
   "cell_type": "code",
   "execution_count": 14,
   "id": "be232772",
   "metadata": {},
   "outputs": [],
   "source": [
    "df[\"jinti\"] = jinti_list"
   ]
  },
  {
   "cell_type": "code",
   "execution_count": 15,
   "id": "eb2d758f",
   "metadata": {},
   "outputs": [],
   "source": [
    "df[\"ball_on\"] = ball_on"
   ]
  },
  {
   "cell_type": "code",
   "execution_count": 16,
   "id": "3e11faf9",
   "metadata": {},
   "outputs": [],
   "source": [
    "df[\"hash\"] = hash_list"
   ]
  },
  {
   "cell_type": "code",
   "execution_count": 17,
   "id": "6ede42e2",
   "metadata": {},
   "outputs": [],
   "source": [
    "df[\"play_type\"] = playtype_list"
   ]
  },
  {
   "cell_type": "code",
   "execution_count": 107,
   "id": "30af672b",
   "metadata": {
    "collapsed": true,
    "jupyter": {
     "outputs_hidden": true
    }
   },
   "outputs": [
    {
     "data": {
      "text/html": [
       "<div>\n",
       "<style scoped>\n",
       "    .dataframe tbody tr th:only-of-type {\n",
       "        vertical-align: middle;\n",
       "    }\n",
       "\n",
       "    .dataframe tbody tr th {\n",
       "        vertical-align: top;\n",
       "    }\n",
       "\n",
       "    .dataframe thead th {\n",
       "        text-align: right;\n",
       "    }\n",
       "</style>\n",
       "<table border=\"1\" class=\"dataframe\">\n",
       "  <thead>\n",
       "    <tr style=\"text-align: right;\">\n",
       "      <th></th>\n",
       "      <th>test</th>\n",
       "    </tr>\n",
       "  </thead>\n",
       "  <tbody>\n",
       "    <tr>\n",
       "      <th>0</th>\n",
       "      <td>NR35Kick-off、#3鈴木健太キック…BB14,#35GamboaHerbert17...</td>\n",
       "    </tr>\n",
       "    <tr>\n",
       "      <th>1</th>\n",
       "      <td>1&amp;10-BB31RPASS#3KevinCraftパス失敗</td>\n",
       "    </tr>\n",
       "    <tr>\n",
       "      <th>2</th>\n",
       "      <td>2&amp;10-BB31RPASS、#3KevinCraft一#85鈴木隆中11yパスP1</td>\n",
       "    </tr>\n",
       "    <tr>\n",
       "      <th>3</th>\n",
       "      <td>1&amp;10-BB42LPASS#3KevinCraft一#14遠藤健史7yパス</td>\n",
       "    </tr>\n",
       "    <tr>\n",
       "      <th>4</th>\n",
       "      <td>2&amp;3-BB49RPASS、#3KevinCraft一#85鈴木隆貴10yパスP2</td>\n",
       "    </tr>\n",
       "    <tr>\n",
       "      <th>5</th>\n",
       "      <td>1&amp;10-NR41LRUN#7山中大輔3ッヶラン(#5田中喜貴)</td>\n",
       "    </tr>\n",
       "    <tr>\n",
       "      <th>6</th>\n",
       "      <td>2&amp;7-NR38LPASS、#3KevinCraft一#40JohnStanton-2yパス...</td>\n",
       "    </tr>\n",
       "    <tr>\n",
       "      <th>7</th>\n",
       "      <td>3&amp;9-NR40RRUN#32元山伊織5yラン</td>\n",
       "    </tr>\n",
       "    <tr>\n",
       "      <th>8</th>\n",
       "      <td>4&amp;4-NR35MPASS、#3KevinCraft一#82白根混12yパス(#3佐久間徹)P3</td>\n",
       "    </tr>\n",
       "    <tr>\n",
       "      <th>9</th>\n",
       "      <td>1&amp;10-NR23RPASS、#3KevinCraftパス失敗-NoPlay</td>\n",
       "    </tr>\n",
       "    <tr>\n",
       "      <th>10</th>\n",
       "      <td>+PenaltyNRオフサイド5y久退</td>\n",
       "    </tr>\n",
       "    <tr>\n",
       "      <th>11</th>\n",
       "      <td>1&amp;5-NR18RRUN#32元山伊織-1yラン(#5田中豆貴)</td>\n",
       "    </tr>\n",
       "    <tr>\n",
       "      <th>12</th>\n",
       "      <td>2&amp;6-NR19RPASS#3KevinCraftパス失敗</td>\n",
       "    </tr>\n",
       "    <tr>\n",
       "      <th>13</th>\n",
       "      <td>3&amp;6-NR19RPASS#3KevinCraftパス失敗</td>\n",
       "    </tr>\n",
       "    <tr>\n",
       "      <th>14</th>\n",
       "      <td>4&amp;6-NR19RPASS#3KevinCraftパス失敗</td>\n",
       "    </tr>\n",
       "    <tr>\n",
       "      <th>15</th>\n",
       "      <td>1&amp;10-NR19LRUN#6KURTPALANDECH8yラン</td>\n",
       "    </tr>\n",
       "    <tr>\n",
       "      <th>16</th>\n",
       "      <td>2&amp;2-NR27LRUN#20DERECKAKIRAWILLIAMS0yラン(#9植村佳史)</td>\n",
       "    </tr>\n",
       "    <tr>\n",
       "      <th>17</th>\n",
       "      <td>3&amp;2-NR27LRUN#20DERECKAKIRAWILLIAMS0yラン</td>\n",
       "    </tr>\n",
       "    <tr>\n",
       "      <th>18</th>\n",
       "      <td>4&amp;2-NR27MPUNT結3鈴木健太パント…BB23,#35鈴木隆貴10yリターン(#3佐...</td>\n",
       "    </tr>\n",
       "    <tr>\n",
       "      <th>19</th>\n",
       "      <td>1&amp;10-BB33RPASS#3KevinCraftパス失敗</td>\n",
       "    </tr>\n",
       "    <tr>\n",
       "      <th>20</th>\n",
       "      <td>2&amp;10-BB33RRUN#47山中大輔1ラン(#44小宮洋平,#56浦野雄大)</td>\n",
       "    </tr>\n",
       "    <tr>\n",
       "      <th>21</th>\n",
       "      <td>3&amp;9-BB34MPASS、#3KevinCraft一#87松岡直希34yパス(#33山口遇...</td>\n",
       "    </tr>\n",
       "    <tr>\n",
       "      <th>22</th>\n",
       "      <td>1&amp;10-NR32RPASS、#3KevinCraft一#82白根混19yパス(#3佐久間徹)P5</td>\n",
       "    </tr>\n",
       "    <tr>\n",
       "      <th>23</th>\n",
       "      <td>1&amp;10-NR13MRUN#32元山伊織-3yラン(#5田中喜貴)</td>\n",
       "    </tr>\n",
       "    <tr>\n",
       "      <th>24</th>\n",
       "      <td>2&amp;13-NR16LRUN#3KevinCraftQBサック-5yロス(#93池田貴士)</td>\n",
       "    </tr>\n",
       "    <tr>\n",
       "      <th>25</th>\n",
       "      <td>3&amp;18-NR21LPASS#3KevinCraftパス失敗</td>\n",
       "    </tr>\n",
       "    <tr>\n",
       "      <th>26</th>\n",
       "      <td>4&amp;18-NR21LFG#19佐藤太希39yットライ(H/#7馬島臨太郎))GOOD</td>\n",
       "    </tr>\n",
       "    <tr>\n",
       "      <th>27</th>\n",
       "      <td>BB35Kick-off、#19佐藤太希キック…NR16,#3佐久間徹14yリターン</td>\n",
       "    </tr>\n",
       "    <tr>\n",
       "      <th>28</th>\n",
       "      <td>1&amp;10-NR30MRUN#20DERECKAKIRAWILLIAMS4yラン</td>\n",
       "    </tr>\n",
       "    <tr>\n",
       "      <th>29</th>\n",
       "      <td>2&amp;6-NR34RPASS#6KURTPALANDECHパス失敗</td>\n",
       "    </tr>\n",
       "    <tr>\n",
       "      <th>30</th>\n",
       "      <td>3&amp;6-NR34RPASS#6KURTPALANDECH一#15出島崇秀10yパス(#29米...</td>\n",
       "    </tr>\n",
       "    <tr>\n",
       "      <th>31</th>\n",
       "      <td>1&amp;10-NR44RRUN#20DERECKAKIRAWILLIAMS-2yラン(57寺林細...</td>\n",
       "    </tr>\n",
       "  </tbody>\n",
       "</table>\n",
       "</div>"
      ],
      "text/plain": [
       "                                                 test\n",
       "0   NR35Kick-off、#3鈴木健太キック…BB14,#35GamboaHerbert17...\n",
       "1                      1&10-BB31RPASS#3KevinCraftパス失敗\n",
       "2          2&10-BB31RPASS、#3KevinCraft一#85鈴木隆中11yパスP1\n",
       "3              1&10-BB42LPASS#3KevinCraft一#14遠藤健史7yパス\n",
       "4           2&3-BB49RPASS、#3KevinCraft一#85鈴木隆貴10yパスP2\n",
       "5                    1&10-NR41LRUN#7山中大輔3ッヶラン(#5田中喜貴)\n",
       "6   2&7-NR38LPASS、#3KevinCraft一#40JohnStanton-2yパス...\n",
       "7                             3&9-NR40RRUN#32元山伊織5yラン\n",
       "8    4&4-NR35MPASS、#3KevinCraft一#82白根混12yパス(#3佐久間徹)P3\n",
       "9              1&10-NR23RPASS、#3KevinCraftパス失敗-NoPlay\n",
       "10                                +PenaltyNRオフサイド5y久退\n",
       "11                   1&5-NR18RRUN#32元山伊織-1yラン(#5田中豆貴)\n",
       "12                      2&6-NR19RPASS#3KevinCraftパス失敗\n",
       "13                      3&6-NR19RPASS#3KevinCraftパス失敗\n",
       "14                      4&6-NR19RPASS#3KevinCraftパス失敗\n",
       "15                   1&10-NR19LRUN#6KURTPALANDECH8yラン\n",
       "16     2&2-NR27LRUN#20DERECKAKIRAWILLIAMS0yラン(#9植村佳史)\n",
       "17             3&2-NR27LRUN#20DERECKAKIRAWILLIAMS0yラン\n",
       "18  4&2-NR27MPUNT結3鈴木健太パント…BB23,#35鈴木隆貴10yリターン(#3佐...\n",
       "19                     1&10-BB33RPASS#3KevinCraftパス失敗\n",
       "20           2&10-BB33RRUN#47山中大輔1ラン(#44小宮洋平,#56浦野雄大)\n",
       "21  3&9-BB34MPASS、#3KevinCraft一#87松岡直希34yパス(#33山口遇...\n",
       "22  1&10-NR32RPASS、#3KevinCraft一#82白根混19yパス(#3佐久間徹)P5\n",
       "23                  1&10-NR13MRUN#32元山伊織-3yラン(#5田中喜貴)\n",
       "24       2&13-NR16LRUN#3KevinCraftQBサック-5yロス(#93池田貴士)\n",
       "25                     3&18-NR21LPASS#3KevinCraftパス失敗\n",
       "26         4&18-NR21LFG#19佐藤太希39yットライ(H/#7馬島臨太郎))GOOD\n",
       "27         BB35Kick-off、#19佐藤太希キック…NR16,#3佐久間徹14yリターン\n",
       "28            1&10-NR30MRUN#20DERECKAKIRAWILLIAMS4yラン\n",
       "29                   2&6-NR34RPASS#6KURTPALANDECHパス失敗\n",
       "30  3&6-NR34RPASS#6KURTPALANDECH一#15出島崇秀10yパス(#29米...\n",
       "31  1&10-NR44RRUN#20DERECKAKIRAWILLIAMS-2yラン(57寺林細..."
      ]
     },
     "execution_count": 107,
     "metadata": {},
     "output_type": "execute_result"
    }
   ],
   "source": [
    "df"
   ]
  },
  {
   "cell_type": "code",
   "execution_count": 1,
   "id": "4982ff4e",
   "metadata": {},
   "outputs": [],
   "source": [
    "# df.to_csv(\"df_test.csv\")"
   ]
  },
  {
   "cell_type": "code",
   "execution_count": null,
   "id": "5bb842a0",
   "metadata": {},
   "outputs": [],
   "source": []
  }
 ],
 "metadata": {
  "kernelspec": {
   "display_name": "Python 3",
   "language": "python",
   "name": "python3"
  },
  "language_info": {
   "codemirror_mode": {
    "name": "ipython",
    "version": 3
   },
   "file_extension": ".py",
   "mimetype": "text/x-python",
   "name": "python",
   "nbconvert_exporter": "python",
   "pygments_lexer": "ipython3",
   "version": "3.8.5"
  }
 },
 "nbformat": 4,
 "nbformat_minor": 5
}
